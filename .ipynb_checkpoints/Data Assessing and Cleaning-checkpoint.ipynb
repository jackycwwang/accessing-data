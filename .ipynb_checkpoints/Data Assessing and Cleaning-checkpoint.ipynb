{
 "cells": [
  {
   "cell_type": "markdown",
   "id": "42381518",
   "metadata": {},
   "source": [
    "## Understand data assessment and data cleaning process\n",
    "This (fake) clinical trial dataset has three tables: patients, treatments, and adverse_reactions."
   ]
  },
  {
   "cell_type": "code",
   "execution_count": 1,
   "id": "4bbb3f85",
   "metadata": {},
   "outputs": [],
   "source": [
    "import numpy as np\n",
    "import pandas as pd"
   ]
  },
  {
   "cell_type": "code",
   "execution_count": 2,
   "id": "1b3c2c3e",
   "metadata": {},
   "outputs": [],
   "source": [
    "patients = pd.read_csv('patients.csv')\n",
    "treatments = pd.read_csv('treatments.csv')\n",
    "adverse_reactions = pd.read_csv('adverse_reactions.csv')"
   ]
  },
  {
   "cell_type": "markdown",
   "id": "cca4b3a4",
   "metadata": {},
   "source": [
    "### Visual Assessment"
   ]
  },
  {
   "cell_type": "code",
   "execution_count": 97,
   "id": "7cfaa654",
   "metadata": {},
   "outputs": [
    {
     "data": {
      "text/html": [
       "<div>\n",
       "<style scoped>\n",
       "    .dataframe tbody tr th:only-of-type {\n",
       "        vertical-align: middle;\n",
       "    }\n",
       "\n",
       "    .dataframe tbody tr th {\n",
       "        vertical-align: top;\n",
       "    }\n",
       "\n",
       "    .dataframe thead th {\n",
       "        text-align: right;\n",
       "    }\n",
       "</style>\n",
       "<table border=\"1\" class=\"dataframe\">\n",
       "  <thead>\n",
       "    <tr style=\"text-align: right;\">\n",
       "      <th></th>\n",
       "      <th>patient_id</th>\n",
       "      <th>assigned_sex</th>\n",
       "      <th>given_name</th>\n",
       "      <th>surname</th>\n",
       "      <th>address</th>\n",
       "      <th>city</th>\n",
       "      <th>state</th>\n",
       "      <th>zip_code</th>\n",
       "      <th>country</th>\n",
       "      <th>contact</th>\n",
       "      <th>birthdate</th>\n",
       "      <th>weight</th>\n",
       "      <th>height</th>\n",
       "      <th>bmi</th>\n",
       "    </tr>\n",
       "  </thead>\n",
       "  <tbody>\n",
       "    <tr>\n",
       "      <th>0</th>\n",
       "      <td>1</td>\n",
       "      <td>female</td>\n",
       "      <td>Zoe</td>\n",
       "      <td>Wellish</td>\n",
       "      <td>576 Brown Bear Drive</td>\n",
       "      <td>Rancho California</td>\n",
       "      <td>California</td>\n",
       "      <td>92390.0</td>\n",
       "      <td>United States</td>\n",
       "      <td>951-719-9170ZoeWellish@superrito.com</td>\n",
       "      <td>7/10/1976</td>\n",
       "      <td>121.7</td>\n",
       "      <td>66</td>\n",
       "      <td>19.6</td>\n",
       "    </tr>\n",
       "    <tr>\n",
       "      <th>1</th>\n",
       "      <td>2</td>\n",
       "      <td>female</td>\n",
       "      <td>Pamela</td>\n",
       "      <td>Hill</td>\n",
       "      <td>2370 University Hill Road</td>\n",
       "      <td>Armstrong</td>\n",
       "      <td>Illinois</td>\n",
       "      <td>61812.0</td>\n",
       "      <td>United States</td>\n",
       "      <td>PamelaSHill@cuvox.de+1 (217) 569-3204</td>\n",
       "      <td>4/3/1967</td>\n",
       "      <td>118.8</td>\n",
       "      <td>66</td>\n",
       "      <td>19.2</td>\n",
       "    </tr>\n",
       "    <tr>\n",
       "      <th>2</th>\n",
       "      <td>3</td>\n",
       "      <td>male</td>\n",
       "      <td>Jae</td>\n",
       "      <td>Debord</td>\n",
       "      <td>1493 Poling Farm Road</td>\n",
       "      <td>York</td>\n",
       "      <td>Nebraska</td>\n",
       "      <td>68467.0</td>\n",
       "      <td>United States</td>\n",
       "      <td>402-363-6804JaeMDebord@gustr.com</td>\n",
       "      <td>2/19/1980</td>\n",
       "      <td>177.8</td>\n",
       "      <td>71</td>\n",
       "      <td>24.8</td>\n",
       "    </tr>\n",
       "    <tr>\n",
       "      <th>3</th>\n",
       "      <td>4</td>\n",
       "      <td>male</td>\n",
       "      <td>Liêm</td>\n",
       "      <td>Phan</td>\n",
       "      <td>2335 Webster Street</td>\n",
       "      <td>Woodbridge</td>\n",
       "      <td>NJ</td>\n",
       "      <td>7095.0</td>\n",
       "      <td>United States</td>\n",
       "      <td>PhanBaLiem@jourrapide.com+1 (732) 636-8246</td>\n",
       "      <td>7/26/1951</td>\n",
       "      <td>220.9</td>\n",
       "      <td>70</td>\n",
       "      <td>31.7</td>\n",
       "    </tr>\n",
       "    <tr>\n",
       "      <th>4</th>\n",
       "      <td>5</td>\n",
       "      <td>male</td>\n",
       "      <td>Tim</td>\n",
       "      <td>Neudorf</td>\n",
       "      <td>1428 Turkey Pen Lane</td>\n",
       "      <td>Dothan</td>\n",
       "      <td>AL</td>\n",
       "      <td>36303.0</td>\n",
       "      <td>United States</td>\n",
       "      <td>334-515-7487TimNeudorf@cuvox.de</td>\n",
       "      <td>2/18/1928</td>\n",
       "      <td>192.3</td>\n",
       "      <td>27</td>\n",
       "      <td>26.1</td>\n",
       "    </tr>\n",
       "    <tr>\n",
       "      <th>...</th>\n",
       "      <td>...</td>\n",
       "      <td>...</td>\n",
       "      <td>...</td>\n",
       "      <td>...</td>\n",
       "      <td>...</td>\n",
       "      <td>...</td>\n",
       "      <td>...</td>\n",
       "      <td>...</td>\n",
       "      <td>...</td>\n",
       "      <td>...</td>\n",
       "      <td>...</td>\n",
       "      <td>...</td>\n",
       "      <td>...</td>\n",
       "      <td>...</td>\n",
       "    </tr>\n",
       "    <tr>\n",
       "      <th>498</th>\n",
       "      <td>499</td>\n",
       "      <td>male</td>\n",
       "      <td>Mustafa</td>\n",
       "      <td>Lindström</td>\n",
       "      <td>2530 Victoria Court</td>\n",
       "      <td>Milton Mills</td>\n",
       "      <td>ME</td>\n",
       "      <td>3852.0</td>\n",
       "      <td>United States</td>\n",
       "      <td>207-477-0579MustafaLindstrom@jourrapide.com</td>\n",
       "      <td>4/10/1959</td>\n",
       "      <td>181.1</td>\n",
       "      <td>72</td>\n",
       "      <td>24.6</td>\n",
       "    </tr>\n",
       "    <tr>\n",
       "      <th>499</th>\n",
       "      <td>500</td>\n",
       "      <td>male</td>\n",
       "      <td>Ruman</td>\n",
       "      <td>Bisliev</td>\n",
       "      <td>494 Clarksburg Park Road</td>\n",
       "      <td>Sedona</td>\n",
       "      <td>AZ</td>\n",
       "      <td>86341.0</td>\n",
       "      <td>United States</td>\n",
       "      <td>928-284-4492RumanBisliev@gustr.com</td>\n",
       "      <td>3/26/1948</td>\n",
       "      <td>239.6</td>\n",
       "      <td>70</td>\n",
       "      <td>34.4</td>\n",
       "    </tr>\n",
       "    <tr>\n",
       "      <th>500</th>\n",
       "      <td>501</td>\n",
       "      <td>female</td>\n",
       "      <td>Jinke</td>\n",
       "      <td>de Keizer</td>\n",
       "      <td>649 Nutter Street</td>\n",
       "      <td>Overland Park</td>\n",
       "      <td>MO</td>\n",
       "      <td>64110.0</td>\n",
       "      <td>United States</td>\n",
       "      <td>816-223-6007JinkedeKeizer@teleworm.us</td>\n",
       "      <td>1/13/1971</td>\n",
       "      <td>171.2</td>\n",
       "      <td>67</td>\n",
       "      <td>26.8</td>\n",
       "    </tr>\n",
       "    <tr>\n",
       "      <th>501</th>\n",
       "      <td>502</td>\n",
       "      <td>female</td>\n",
       "      <td>Chidalu</td>\n",
       "      <td>Onyekaozulu</td>\n",
       "      <td>3652 Boone Crockett Lane</td>\n",
       "      <td>Seattle</td>\n",
       "      <td>WA</td>\n",
       "      <td>98109.0</td>\n",
       "      <td>United States</td>\n",
       "      <td>ChidaluOnyekaozulu@jourrapide.com1 360 443 2060</td>\n",
       "      <td>2/13/1952</td>\n",
       "      <td>176.9</td>\n",
       "      <td>67</td>\n",
       "      <td>27.7</td>\n",
       "    </tr>\n",
       "    <tr>\n",
       "      <th>502</th>\n",
       "      <td>503</td>\n",
       "      <td>male</td>\n",
       "      <td>Pat</td>\n",
       "      <td>Gersten</td>\n",
       "      <td>2778 North Avenue</td>\n",
       "      <td>Burr</td>\n",
       "      <td>Nebraska</td>\n",
       "      <td>68324.0</td>\n",
       "      <td>United States</td>\n",
       "      <td>PatrickGersten@rhyta.com402-848-4923</td>\n",
       "      <td>5/3/1954</td>\n",
       "      <td>138.2</td>\n",
       "      <td>71</td>\n",
       "      <td>19.3</td>\n",
       "    </tr>\n",
       "  </tbody>\n",
       "</table>\n",
       "<p>503 rows × 14 columns</p>\n",
       "</div>"
      ],
      "text/plain": [
       "     patient_id assigned_sex given_name      surname  \\\n",
       "0             1       female        Zoe      Wellish   \n",
       "1             2       female     Pamela         Hill   \n",
       "2             3         male        Jae       Debord   \n",
       "3             4         male       Liêm         Phan   \n",
       "4             5         male        Tim      Neudorf   \n",
       "..          ...          ...        ...          ...   \n",
       "498         499         male    Mustafa    Lindström   \n",
       "499         500         male      Ruman      Bisliev   \n",
       "500         501       female      Jinke    de Keizer   \n",
       "501         502       female    Chidalu  Onyekaozulu   \n",
       "502         503         male        Pat      Gersten   \n",
       "\n",
       "                       address               city       state  zip_code  \\\n",
       "0         576 Brown Bear Drive  Rancho California  California   92390.0   \n",
       "1    2370 University Hill Road          Armstrong    Illinois   61812.0   \n",
       "2        1493 Poling Farm Road               York    Nebraska   68467.0   \n",
       "3          2335 Webster Street         Woodbridge          NJ    7095.0   \n",
       "4         1428 Turkey Pen Lane             Dothan          AL   36303.0   \n",
       "..                         ...                ...         ...       ...   \n",
       "498        2530 Victoria Court       Milton Mills          ME    3852.0   \n",
       "499   494 Clarksburg Park Road             Sedona          AZ   86341.0   \n",
       "500          649 Nutter Street      Overland Park          MO   64110.0   \n",
       "501   3652 Boone Crockett Lane            Seattle          WA   98109.0   \n",
       "502          2778 North Avenue               Burr    Nebraska   68324.0   \n",
       "\n",
       "           country                                          contact  \\\n",
       "0    United States             951-719-9170ZoeWellish@superrito.com   \n",
       "1    United States            PamelaSHill@cuvox.de+1 (217) 569-3204   \n",
       "2    United States                 402-363-6804JaeMDebord@gustr.com   \n",
       "3    United States       PhanBaLiem@jourrapide.com+1 (732) 636-8246   \n",
       "4    United States                  334-515-7487TimNeudorf@cuvox.de   \n",
       "..             ...                                              ...   \n",
       "498  United States      207-477-0579MustafaLindstrom@jourrapide.com   \n",
       "499  United States               928-284-4492RumanBisliev@gustr.com   \n",
       "500  United States            816-223-6007JinkedeKeizer@teleworm.us   \n",
       "501  United States  ChidaluOnyekaozulu@jourrapide.com1 360 443 2060   \n",
       "502  United States             PatrickGersten@rhyta.com402-848-4923   \n",
       "\n",
       "     birthdate  weight  height   bmi  \n",
       "0    7/10/1976   121.7      66  19.6  \n",
       "1     4/3/1967   118.8      66  19.2  \n",
       "2    2/19/1980   177.8      71  24.8  \n",
       "3    7/26/1951   220.9      70  31.7  \n",
       "4    2/18/1928   192.3      27  26.1  \n",
       "..         ...     ...     ...   ...  \n",
       "498  4/10/1959   181.1      72  24.6  \n",
       "499  3/26/1948   239.6      70  34.4  \n",
       "500  1/13/1971   171.2      67  26.8  \n",
       "501  2/13/1952   176.9      67  27.7  \n",
       "502   5/3/1954   138.2      71  19.3  \n",
       "\n",
       "[503 rows x 14 columns]"
      ]
     },
     "execution_count": 97,
     "metadata": {},
     "output_type": "execute_result"
    }
   ],
   "source": [
    "# Display the patients table\n",
    "patients"
   ]
  },
  {
   "cell_type": "markdown",
   "id": "de1cf1d3",
   "metadata": {},
   "source": [
    "There, the column `bmi` is the Body Mass Index (BMI) of each patient. \n",
    "\n",
    "BMI is a simple calculation using a person's height and weight. The formula is `BMI = kg/m^2` where `kg` is a person's weight in kilograms and `m2` is their height in metres squared. A BMI of 25.0 or more is overweight, while the healthy range is **18.5** to **24.9**. \n",
    "\n",
    "The inclusion criteria for this clinical trial is 16 >= BMI >= 38.\n",
    "\n",
    "The other columns need to note:\n",
    "* weight: the weight of each patient in pounds (lbs)\n",
    "* height: the height of each patient in inches (in)\n",
    "* birthdate: the date of birth of each patient (month/day/year). The inclusion criteria for this clinical trial is age >= 18 (there is no maximum age because diabetes is a growing problem among the elderly population)\n",
    "* assigned_sex: the assigned sex of each patient at birth (male or female)"
   ]
  },
  {
   "cell_type": "code",
   "execution_count": 98,
   "id": "07df9ca9",
   "metadata": {
    "scrolled": true
   },
   "outputs": [
    {
     "data": {
      "text/html": [
       "<div>\n",
       "<style scoped>\n",
       "    .dataframe tbody tr th:only-of-type {\n",
       "        vertical-align: middle;\n",
       "    }\n",
       "\n",
       "    .dataframe tbody tr th {\n",
       "        vertical-align: top;\n",
       "    }\n",
       "\n",
       "    .dataframe thead th {\n",
       "        text-align: right;\n",
       "    }\n",
       "</style>\n",
       "<table border=\"1\" class=\"dataframe\">\n",
       "  <thead>\n",
       "    <tr style=\"text-align: right;\">\n",
       "      <th></th>\n",
       "      <th>given_name</th>\n",
       "      <th>surname</th>\n",
       "      <th>auralin</th>\n",
       "      <th>novodra</th>\n",
       "      <th>hba1c_start</th>\n",
       "      <th>hba1c_end</th>\n",
       "      <th>hba1c_change</th>\n",
       "    </tr>\n",
       "  </thead>\n",
       "  <tbody>\n",
       "    <tr>\n",
       "      <th>0</th>\n",
       "      <td>veronika</td>\n",
       "      <td>jindrová</td>\n",
       "      <td>41u - 48u</td>\n",
       "      <td>-</td>\n",
       "      <td>7.63</td>\n",
       "      <td>7.20</td>\n",
       "      <td>NaN</td>\n",
       "    </tr>\n",
       "    <tr>\n",
       "      <th>1</th>\n",
       "      <td>elliot</td>\n",
       "      <td>richardson</td>\n",
       "      <td>-</td>\n",
       "      <td>40u - 45u</td>\n",
       "      <td>7.56</td>\n",
       "      <td>7.09</td>\n",
       "      <td>0.97</td>\n",
       "    </tr>\n",
       "    <tr>\n",
       "      <th>2</th>\n",
       "      <td>yukitaka</td>\n",
       "      <td>takenaka</td>\n",
       "      <td>-</td>\n",
       "      <td>39u - 36u</td>\n",
       "      <td>7.68</td>\n",
       "      <td>7.25</td>\n",
       "      <td>NaN</td>\n",
       "    </tr>\n",
       "    <tr>\n",
       "      <th>3</th>\n",
       "      <td>skye</td>\n",
       "      <td>gormanston</td>\n",
       "      <td>33u - 36u</td>\n",
       "      <td>-</td>\n",
       "      <td>7.97</td>\n",
       "      <td>7.62</td>\n",
       "      <td>0.35</td>\n",
       "    </tr>\n",
       "    <tr>\n",
       "      <th>4</th>\n",
       "      <td>alissa</td>\n",
       "      <td>montez</td>\n",
       "      <td>-</td>\n",
       "      <td>33u - 29u</td>\n",
       "      <td>7.78</td>\n",
       "      <td>7.46</td>\n",
       "      <td>0.32</td>\n",
       "    </tr>\n",
       "    <tr>\n",
       "      <th>...</th>\n",
       "      <td>...</td>\n",
       "      <td>...</td>\n",
       "      <td>...</td>\n",
       "      <td>...</td>\n",
       "      <td>...</td>\n",
       "      <td>...</td>\n",
       "      <td>...</td>\n",
       "    </tr>\n",
       "    <tr>\n",
       "      <th>275</th>\n",
       "      <td>albina</td>\n",
       "      <td>zetticci</td>\n",
       "      <td>45u - 51u</td>\n",
       "      <td>-</td>\n",
       "      <td>7.93</td>\n",
       "      <td>7.73</td>\n",
       "      <td>0.20</td>\n",
       "    </tr>\n",
       "    <tr>\n",
       "      <th>276</th>\n",
       "      <td>john</td>\n",
       "      <td>teichelmann</td>\n",
       "      <td>-</td>\n",
       "      <td>49u - 49u</td>\n",
       "      <td>7.90</td>\n",
       "      <td>7.58</td>\n",
       "      <td>NaN</td>\n",
       "    </tr>\n",
       "    <tr>\n",
       "      <th>277</th>\n",
       "      <td>mathea</td>\n",
       "      <td>lillebø</td>\n",
       "      <td>23u - 36u</td>\n",
       "      <td>-</td>\n",
       "      <td>9.04</td>\n",
       "      <td>8.67</td>\n",
       "      <td>0.37</td>\n",
       "    </tr>\n",
       "    <tr>\n",
       "      <th>278</th>\n",
       "      <td>vallie</td>\n",
       "      <td>prince</td>\n",
       "      <td>31u - 38u</td>\n",
       "      <td>-</td>\n",
       "      <td>7.64</td>\n",
       "      <td>7.28</td>\n",
       "      <td>0.36</td>\n",
       "    </tr>\n",
       "    <tr>\n",
       "      <th>279</th>\n",
       "      <td>samúel</td>\n",
       "      <td>guðbrandsson</td>\n",
       "      <td>53u - 56u</td>\n",
       "      <td>-</td>\n",
       "      <td>8.00</td>\n",
       "      <td>7.64</td>\n",
       "      <td>0.36</td>\n",
       "    </tr>\n",
       "  </tbody>\n",
       "</table>\n",
       "<p>280 rows × 7 columns</p>\n",
       "</div>"
      ],
      "text/plain": [
       "    given_name       surname    auralin    novodra  hba1c_start  hba1c_end  \\\n",
       "0     veronika      jindrová  41u - 48u          -         7.63       7.20   \n",
       "1       elliot    richardson          -  40u - 45u         7.56       7.09   \n",
       "2     yukitaka      takenaka          -  39u - 36u         7.68       7.25   \n",
       "3         skye    gormanston  33u - 36u          -         7.97       7.62   \n",
       "4       alissa        montez          -  33u - 29u         7.78       7.46   \n",
       "..         ...           ...        ...        ...          ...        ...   \n",
       "275     albina      zetticci  45u - 51u          -         7.93       7.73   \n",
       "276       john   teichelmann          -  49u - 49u         7.90       7.58   \n",
       "277     mathea       lillebø  23u - 36u          -         9.04       8.67   \n",
       "278     vallie        prince  31u - 38u          -         7.64       7.28   \n",
       "279     samúel  guðbrandsson  53u - 56u          -         8.00       7.64   \n",
       "\n",
       "     hba1c_change  \n",
       "0             NaN  \n",
       "1            0.97  \n",
       "2             NaN  \n",
       "3            0.35  \n",
       "4            0.32  \n",
       "..            ...  \n",
       "275          0.20  \n",
       "276           NaN  \n",
       "277          0.37  \n",
       "278          0.36  \n",
       "279          0.36  \n",
       "\n",
       "[280 rows x 7 columns]"
      ]
     },
     "execution_count": 98,
     "metadata": {},
     "output_type": "execute_result"
    }
   ],
   "source": [
    "treatments"
   ]
  },
  {
   "cell_type": "markdown",
   "id": "33514f7d",
   "metadata": {},
   "source": [
    "350 patients participated in this clinical trial. None of the patients were using Novodra (a popular injectable insulin) or Auralin (the oral insulin being researched) as their primary source of insulin before. All were experiencing elevated HbA1c levels.\n",
    "\n",
    "All 350 patients were treated with Novodra to establish a baseline HbA1c level and insulin dose. After four weeks, which isn’t enough time to capture all the change in HbA1c that can be attributed by the switch to Auralin or Novodra:\n",
    "\n",
    "175 patients switched to Auralin for 24 weeks\n",
    "175 patients continued using Novodra for 24 weeks\n",
    "\n",
    "Some `treatments` columns:\n",
    "\n",
    "* auralin: the baseline median daily dose of insulin from the week prior to switching to Auralin (the number before the dash) and the ending median daily dose of insulin at the end of the 24 weeks of treatment measured over the 24th week of treatment (the number after the dash). Both are measured in units (shortform 'u'), which is the international unit of measurement and the standard measurement for insulin.\n",
    "* novodra: same as above, except for patients that continued treatment with Novodra\n",
    "* hba1c_start: the patient's HbA1c level at the beginning of the first week of treatment. HbA1c stands for Hemoglobin A1c. The HbA1c test measures what the average blood sugar has been over the past three months. It is thus a powerful way to get an overall sense of how well diabetes has been controlled. Everyone with diabetes should have this test 2 to 4 times per year. Measured in %.\n",
    "* hba1c_end: the patient's HbA1c level at the end of the last week of treatment\n",
    "* hba1c_change: the change in the patient's HbA1c level from the start of treatment to the end, i.e., hba1c_start - hba1c_end. For Auralin to be deemed effective, it must be \"noninferior\" to Novodra, the current standard for insulin. This \"noninferiority\" is statistically defined as the upper bound of the 95% confidence interval being less than 0.4% for the difference between the mean HbA1c changes for Novodra and Auralin (i.e. Novodra minus Auralin)."
   ]
  },
  {
   "cell_type": "code",
   "execution_count": 99,
   "id": "5cbb03de",
   "metadata": {},
   "outputs": [
    {
     "data": {
      "text/html": [
       "<div>\n",
       "<style scoped>\n",
       "    .dataframe tbody tr th:only-of-type {\n",
       "        vertical-align: middle;\n",
       "    }\n",
       "\n",
       "    .dataframe tbody tr th {\n",
       "        vertical-align: top;\n",
       "    }\n",
       "\n",
       "    .dataframe thead th {\n",
       "        text-align: right;\n",
       "    }\n",
       "</style>\n",
       "<table border=\"1\" class=\"dataframe\">\n",
       "  <thead>\n",
       "    <tr style=\"text-align: right;\">\n",
       "      <th></th>\n",
       "      <th>given_name</th>\n",
       "      <th>surname</th>\n",
       "      <th>adverse_reaction</th>\n",
       "    </tr>\n",
       "  </thead>\n",
       "  <tbody>\n",
       "    <tr>\n",
       "      <th>0</th>\n",
       "      <td>berta</td>\n",
       "      <td>napolitani</td>\n",
       "      <td>injection site discomfort</td>\n",
       "    </tr>\n",
       "    <tr>\n",
       "      <th>1</th>\n",
       "      <td>lena</td>\n",
       "      <td>baer</td>\n",
       "      <td>hypoglycemia</td>\n",
       "    </tr>\n",
       "    <tr>\n",
       "      <th>2</th>\n",
       "      <td>joseph</td>\n",
       "      <td>day</td>\n",
       "      <td>hypoglycemia</td>\n",
       "    </tr>\n",
       "    <tr>\n",
       "      <th>3</th>\n",
       "      <td>flavia</td>\n",
       "      <td>fiorentino</td>\n",
       "      <td>cough</td>\n",
       "    </tr>\n",
       "    <tr>\n",
       "      <th>4</th>\n",
       "      <td>manouck</td>\n",
       "      <td>wubbels</td>\n",
       "      <td>throat irritation</td>\n",
       "    </tr>\n",
       "    <tr>\n",
       "      <th>5</th>\n",
       "      <td>jasmine</td>\n",
       "      <td>sykes</td>\n",
       "      <td>hypoglycemia</td>\n",
       "    </tr>\n",
       "    <tr>\n",
       "      <th>6</th>\n",
       "      <td>louise</td>\n",
       "      <td>johnson</td>\n",
       "      <td>hypoglycemia</td>\n",
       "    </tr>\n",
       "    <tr>\n",
       "      <th>7</th>\n",
       "      <td>albinca</td>\n",
       "      <td>komavec</td>\n",
       "      <td>hypoglycemia</td>\n",
       "    </tr>\n",
       "    <tr>\n",
       "      <th>8</th>\n",
       "      <td>noe</td>\n",
       "      <td>aranda</td>\n",
       "      <td>hypoglycemia</td>\n",
       "    </tr>\n",
       "    <tr>\n",
       "      <th>9</th>\n",
       "      <td>sofia</td>\n",
       "      <td>hermansen</td>\n",
       "      <td>injection site discomfort</td>\n",
       "    </tr>\n",
       "    <tr>\n",
       "      <th>10</th>\n",
       "      <td>tegan</td>\n",
       "      <td>johnson</td>\n",
       "      <td>headache</td>\n",
       "    </tr>\n",
       "    <tr>\n",
       "      <th>11</th>\n",
       "      <td>abel</td>\n",
       "      <td>yonatan</td>\n",
       "      <td>cough</td>\n",
       "    </tr>\n",
       "    <tr>\n",
       "      <th>12</th>\n",
       "      <td>abdul-nur</td>\n",
       "      <td>isa</td>\n",
       "      <td>hypoglycemia</td>\n",
       "    </tr>\n",
       "    <tr>\n",
       "      <th>13</th>\n",
       "      <td>leon</td>\n",
       "      <td>scholz</td>\n",
       "      <td>injection site discomfort</td>\n",
       "    </tr>\n",
       "    <tr>\n",
       "      <th>14</th>\n",
       "      <td>gabriele</td>\n",
       "      <td>saenger</td>\n",
       "      <td>hypoglycemia</td>\n",
       "    </tr>\n",
       "    <tr>\n",
       "      <th>15</th>\n",
       "      <td>jia li</td>\n",
       "      <td>teng</td>\n",
       "      <td>nausea</td>\n",
       "    </tr>\n",
       "    <tr>\n",
       "      <th>16</th>\n",
       "      <td>jakob</td>\n",
       "      <td>jakobsen</td>\n",
       "      <td>hypoglycemia</td>\n",
       "    </tr>\n",
       "    <tr>\n",
       "      <th>17</th>\n",
       "      <td>christopher</td>\n",
       "      <td>woodward</td>\n",
       "      <td>nausea</td>\n",
       "    </tr>\n",
       "    <tr>\n",
       "      <th>18</th>\n",
       "      <td>ole</td>\n",
       "      <td>petersen</td>\n",
       "      <td>hypoglycemia</td>\n",
       "    </tr>\n",
       "    <tr>\n",
       "      <th>19</th>\n",
       "      <td>finley</td>\n",
       "      <td>chandler</td>\n",
       "      <td>headache</td>\n",
       "    </tr>\n",
       "    <tr>\n",
       "      <th>20</th>\n",
       "      <td>anenechi</td>\n",
       "      <td>chidi</td>\n",
       "      <td>hypoglycemia</td>\n",
       "    </tr>\n",
       "    <tr>\n",
       "      <th>21</th>\n",
       "      <td>miłosław</td>\n",
       "      <td>wiśniewski</td>\n",
       "      <td>injection site discomfort</td>\n",
       "    </tr>\n",
       "    <tr>\n",
       "      <th>22</th>\n",
       "      <td>lixue</td>\n",
       "      <td>hsueh</td>\n",
       "      <td>injection site discomfort</td>\n",
       "    </tr>\n",
       "    <tr>\n",
       "      <th>23</th>\n",
       "      <td>merci</td>\n",
       "      <td>leroux</td>\n",
       "      <td>hypoglycemia</td>\n",
       "    </tr>\n",
       "    <tr>\n",
       "      <th>24</th>\n",
       "      <td>kang</td>\n",
       "      <td>mai</td>\n",
       "      <td>injection site discomfort</td>\n",
       "    </tr>\n",
       "    <tr>\n",
       "      <th>25</th>\n",
       "      <td>elliot</td>\n",
       "      <td>richardson</td>\n",
       "      <td>hypoglycemia</td>\n",
       "    </tr>\n",
       "    <tr>\n",
       "      <th>26</th>\n",
       "      <td>clinton</td>\n",
       "      <td>miller</td>\n",
       "      <td>throat irritation</td>\n",
       "    </tr>\n",
       "    <tr>\n",
       "      <th>27</th>\n",
       "      <td>idalia</td>\n",
       "      <td>moore</td>\n",
       "      <td>hypoglycemia</td>\n",
       "    </tr>\n",
       "    <tr>\n",
       "      <th>28</th>\n",
       "      <td>xiuxiu</td>\n",
       "      <td>chang</td>\n",
       "      <td>hypoglycemia</td>\n",
       "    </tr>\n",
       "    <tr>\n",
       "      <th>29</th>\n",
       "      <td>alex</td>\n",
       "      <td>crawford</td>\n",
       "      <td>hypoglycemia</td>\n",
       "    </tr>\n",
       "    <tr>\n",
       "      <th>30</th>\n",
       "      <td>monika</td>\n",
       "      <td>lončar</td>\n",
       "      <td>hypoglycemia</td>\n",
       "    </tr>\n",
       "    <tr>\n",
       "      <th>31</th>\n",
       "      <td>steven</td>\n",
       "      <td>roy</td>\n",
       "      <td>headache</td>\n",
       "    </tr>\n",
       "    <tr>\n",
       "      <th>32</th>\n",
       "      <td>cecilie</td>\n",
       "      <td>nilsen</td>\n",
       "      <td>hypoglycemia</td>\n",
       "    </tr>\n",
       "    <tr>\n",
       "      <th>33</th>\n",
       "      <td>krisztina</td>\n",
       "      <td>magyar</td>\n",
       "      <td>hypoglycemia</td>\n",
       "    </tr>\n",
       "  </tbody>\n",
       "</table>\n",
       "</div>"
      ],
      "text/plain": [
       "     given_name     surname           adverse_reaction\n",
       "0         berta  napolitani  injection site discomfort\n",
       "1          lena        baer               hypoglycemia\n",
       "2        joseph         day               hypoglycemia\n",
       "3        flavia  fiorentino                      cough\n",
       "4       manouck     wubbels          throat irritation\n",
       "5       jasmine       sykes               hypoglycemia\n",
       "6        louise     johnson               hypoglycemia\n",
       "7       albinca     komavec               hypoglycemia\n",
       "8           noe      aranda               hypoglycemia\n",
       "9         sofia   hermansen  injection site discomfort\n",
       "10        tegan     johnson                   headache\n",
       "11         abel     yonatan                      cough\n",
       "12    abdul-nur         isa               hypoglycemia\n",
       "13         leon      scholz  injection site discomfort\n",
       "14     gabriele     saenger               hypoglycemia\n",
       "15       jia li        teng                     nausea\n",
       "16        jakob    jakobsen               hypoglycemia\n",
       "17  christopher    woodward                     nausea\n",
       "18          ole    petersen               hypoglycemia\n",
       "19       finley    chandler                   headache\n",
       "20     anenechi       chidi               hypoglycemia\n",
       "21     miłosław  wiśniewski  injection site discomfort\n",
       "22        lixue       hsueh  injection site discomfort\n",
       "23        merci      leroux               hypoglycemia\n",
       "24         kang         mai  injection site discomfort\n",
       "25       elliot  richardson               hypoglycemia\n",
       "26      clinton      miller          throat irritation\n",
       "27       idalia       moore               hypoglycemia\n",
       "28       xiuxiu       chang               hypoglycemia\n",
       "29         alex    crawford               hypoglycemia\n",
       "30       monika      lončar               hypoglycemia\n",
       "31       steven         roy                   headache\n",
       "32      cecilie      nilsen               hypoglycemia\n",
       "33    krisztina      magyar               hypoglycemia"
      ]
     },
     "execution_count": 99,
     "metadata": {},
     "output_type": "execute_result"
    }
   ],
   "source": [
    "adverse_reactions"
   ]
  },
  {
   "cell_type": "markdown",
   "id": "ef173122",
   "metadata": {},
   "source": [
    "Additional information:\n",
    "\n",
    "* Insulin resistance varies person to person, which is why both starting median daily dose and ending median daily dose are required, i.e., to calculate change in dose.\n",
    "* It is important to test drugs and medical products in the people they are meant to help. People of different age, race, sex, and ethnic group must be included in clinical trials. This diversity is reflected in the patients table.\n",
    "* Ensuring column names are descriptive enough is an important step in acquainting yourself with the data. 'Descriptive enough' is subjective. Ideally you want short column names (so they are easier to type and read in code form) but also fully descriptive. Length vs. descriptiveness is a tradeoff and common debate (a similar debate exists for variable names). Like the auralin and novodra column names are probably not descriptive enough."
   ]
  },
  {
   "cell_type": "markdown",
   "id": "d90bab83",
   "metadata": {},
   "source": [
    "### Programmatic Assessment\n",
    "This means using code to do anything other than looking through the data in its entirety. In pandas, this means using functions and methods to reveal data's quality and tidiness. \n",
    "\n",
    "There are lots of panda's functions and methods to be useful. A lof of assessing is driven by the problems you want to solve. We can check the values in the columns and rows that we plan usng in our analysis. Many times, non-directed programmatic assessment can also be useful. This is randonly typing in programmatic assessments without any directed goal in mind.\n"
   ]
  },
  {
   "cell_type": "code",
   "execution_count": 100,
   "id": "82611221",
   "metadata": {
    "scrolled": true
   },
   "outputs": [
    {
     "name": "stdout",
     "output_type": "stream",
     "text": [
      "<class 'pandas.core.frame.DataFrame'>\n",
      "RangeIndex: 503 entries, 0 to 502\n",
      "Data columns (total 14 columns):\n",
      " #   Column        Non-Null Count  Dtype  \n",
      "---  ------        --------------  -----  \n",
      " 0   patient_id    503 non-null    int64  \n",
      " 1   assigned_sex  503 non-null    object \n",
      " 2   given_name    503 non-null    object \n",
      " 3   surname       503 non-null    object \n",
      " 4   address       491 non-null    object \n",
      " 5   city          491 non-null    object \n",
      " 6   state         491 non-null    object \n",
      " 7   zip_code      491 non-null    float64\n",
      " 8   country       491 non-null    object \n",
      " 9   contact       491 non-null    object \n",
      " 10  birthdate     503 non-null    object \n",
      " 11  weight        503 non-null    float64\n",
      " 12  height        503 non-null    int64  \n",
      " 13  bmi           503 non-null    float64\n",
      "dtypes: float64(3), int64(2), object(9)\n",
      "memory usage: 55.1+ KB\n"
     ]
    }
   ],
   "source": [
    "# .info() (DataFrame only)\n",
    "patients.info()"
   ]
  },
  {
   "cell_type": "code",
   "execution_count": 101,
   "id": "c2239f85",
   "metadata": {
    "scrolled": true
   },
   "outputs": [
    {
     "name": "stdout",
     "output_type": "stream",
     "text": [
      "<class 'pandas.core.frame.DataFrame'>\n",
      "RangeIndex: 280 entries, 0 to 279\n",
      "Data columns (total 7 columns):\n",
      " #   Column        Non-Null Count  Dtype  \n",
      "---  ------        --------------  -----  \n",
      " 0   given_name    280 non-null    object \n",
      " 1   surname       280 non-null    object \n",
      " 2   auralin       280 non-null    object \n",
      " 3   novodra       280 non-null    object \n",
      " 4   hba1c_start   280 non-null    float64\n",
      " 5   hba1c_end     280 non-null    float64\n",
      " 6   hba1c_change  171 non-null    float64\n",
      "dtypes: float64(3), object(4)\n",
      "memory usage: 15.4+ KB\n"
     ]
    }
   ],
   "source": [
    "treatments.info()"
   ]
  },
  {
   "cell_type": "code",
   "execution_count": 3,
   "id": "4a2c749b",
   "metadata": {},
   "outputs": [
    {
     "data": {
      "text/html": [
       "<div>\n",
       "<style scoped>\n",
       "    .dataframe tbody tr th:only-of-type {\n",
       "        vertical-align: middle;\n",
       "    }\n",
       "\n",
       "    .dataframe tbody tr th {\n",
       "        vertical-align: top;\n",
       "    }\n",
       "\n",
       "    .dataframe thead th {\n",
       "        text-align: right;\n",
       "    }\n",
       "</style>\n",
       "<table border=\"1\" class=\"dataframe\">\n",
       "  <thead>\n",
       "    <tr style=\"text-align: right;\">\n",
       "      <th></th>\n",
       "      <th>patient_id</th>\n",
       "      <th>assigned_sex</th>\n",
       "      <th>given_name</th>\n",
       "      <th>surname</th>\n",
       "      <th>address</th>\n",
       "      <th>city</th>\n",
       "      <th>state</th>\n",
       "      <th>zip_code</th>\n",
       "      <th>country</th>\n",
       "      <th>contact</th>\n",
       "      <th>birthdate</th>\n",
       "      <th>weight</th>\n",
       "      <th>height</th>\n",
       "      <th>bmi</th>\n",
       "    </tr>\n",
       "  </thead>\n",
       "  <tbody>\n",
       "    <tr>\n",
       "      <th>202</th>\n",
       "      <td>203</td>\n",
       "      <td>female</td>\n",
       "      <td>Jiřina</td>\n",
       "      <td>Šubrtová</td>\n",
       "      <td>4262 Heron Way</td>\n",
       "      <td>Portland</td>\n",
       "      <td>OR</td>\n",
       "      <td>97204.0</td>\n",
       "      <td>United States</td>\n",
       "      <td>JirinaSubrtova@rhyta.com503-820-7877</td>\n",
       "      <td>12/10/1987</td>\n",
       "      <td>138.4</td>\n",
       "      <td>61</td>\n",
       "      <td>26.1</td>\n",
       "    </tr>\n",
       "    <tr>\n",
       "      <th>485</th>\n",
       "      <td>486</td>\n",
       "      <td>male</td>\n",
       "      <td>Trifon</td>\n",
       "      <td>Izmailov</td>\n",
       "      <td>3697 Drainer Avenue</td>\n",
       "      <td>Fort Walton Beach</td>\n",
       "      <td>FL</td>\n",
       "      <td>32548.0</td>\n",
       "      <td>United States</td>\n",
       "      <td>TrifonIzmailov@fleckens.hu1 850 659 0417</td>\n",
       "      <td>2/15/1973</td>\n",
       "      <td>255.9</td>\n",
       "      <td>74</td>\n",
       "      <td>32.9</td>\n",
       "    </tr>\n",
       "    <tr>\n",
       "      <th>436</th>\n",
       "      <td>437</td>\n",
       "      <td>male</td>\n",
       "      <td>Sun</td>\n",
       "      <td>Ko</td>\n",
       "      <td>1962 Cabell Avenue</td>\n",
       "      <td>Washington</td>\n",
       "      <td>VA</td>\n",
       "      <td>20008.0</td>\n",
       "      <td>United States</td>\n",
       "      <td>703-547-0551SunKo@einrot.com</td>\n",
       "      <td>7/8/1969</td>\n",
       "      <td>154.4</td>\n",
       "      <td>72</td>\n",
       "      <td>20.9</td>\n",
       "    </tr>\n",
       "    <tr>\n",
       "      <th>74</th>\n",
       "      <td>75</td>\n",
       "      <td>female</td>\n",
       "      <td>Hanka</td>\n",
       "      <td>Gegič</td>\n",
       "      <td>192 Patton Lane</td>\n",
       "      <td>Tulsa</td>\n",
       "      <td>OK</td>\n",
       "      <td>74106.0</td>\n",
       "      <td>United States</td>\n",
       "      <td>918-975-7594HankaGegic@fleckens.hu</td>\n",
       "      <td>1/20/1926</td>\n",
       "      <td>103.2</td>\n",
       "      <td>61</td>\n",
       "      <td>19.5</td>\n",
       "    </tr>\n",
       "    <tr>\n",
       "      <th>410</th>\n",
       "      <td>411</td>\n",
       "      <td>male</td>\n",
       "      <td>Nathan</td>\n",
       "      <td>Cumpston</td>\n",
       "      <td>1203 Benson Park Drive</td>\n",
       "      <td>Wayne</td>\n",
       "      <td>OK</td>\n",
       "      <td>73095.0</td>\n",
       "      <td>United States</td>\n",
       "      <td>NathanCumpston@rhyta.com1 405 449 7960</td>\n",
       "      <td>10/6/1965</td>\n",
       "      <td>178.0</td>\n",
       "      <td>67</td>\n",
       "      <td>27.9</td>\n",
       "    </tr>\n",
       "  </tbody>\n",
       "</table>\n",
       "</div>"
      ],
      "text/plain": [
       "     patient_id assigned_sex given_name   surname                 address  \\\n",
       "202         203       female     Jiřina  Šubrtová          4262 Heron Way   \n",
       "485         486         male     Trifon  Izmailov     3697 Drainer Avenue   \n",
       "436         437         male        Sun        Ko      1962 Cabell Avenue   \n",
       "74           75       female      Hanka     Gegič         192 Patton Lane   \n",
       "410         411         male     Nathan  Cumpston  1203 Benson Park Drive   \n",
       "\n",
       "                  city state  zip_code        country  \\\n",
       "202           Portland    OR   97204.0  United States   \n",
       "485  Fort Walton Beach    FL   32548.0  United States   \n",
       "436         Washington    VA   20008.0  United States   \n",
       "74               Tulsa    OK   74106.0  United States   \n",
       "410              Wayne    OK   73095.0  United States   \n",
       "\n",
       "                                      contact   birthdate  weight  height  \\\n",
       "202      JirinaSubrtova@rhyta.com503-820-7877  12/10/1987   138.4      61   \n",
       "485  TrifonIzmailov@fleckens.hu1 850 659 0417   2/15/1973   255.9      74   \n",
       "436              703-547-0551SunKo@einrot.com    7/8/1969   154.4      72   \n",
       "74         918-975-7594HankaGegic@fleckens.hu   1/20/1926   103.2      61   \n",
       "410    NathanCumpston@rhyta.com1 405 449 7960   10/6/1965   178.0      67   \n",
       "\n",
       "      bmi  \n",
       "202  26.1  \n",
       "485  32.9  \n",
       "436  20.9  \n",
       "74   19.5  \n",
       "410  27.9  "
      ]
     },
     "execution_count": 3,
     "metadata": {},
     "output_type": "execute_result"
    }
   ],
   "source": [
    "#  sample() ( DataFrame and Series)\n",
    "# Non-directed assessment using sample()\n",
    "# Can give us a clue what we might need to clean\n",
    "patients.sample(5)"
   ]
  },
  {
   "cell_type": "markdown",
   "id": "4118800b",
   "metadata": {},
   "source": [
    "Some useful functions and methods good for programmatic assessment:\n",
    "- .info()\n",
    "- .sample()\n",
    "- .head()\n",
    "- .tail()\n",
    "- .describe()\n",
    "- .value_counts()\n",
    "- .Various methods of indexing and selecting data (.loc and bracket notation with/without boolean indexing, also .iloc)\n",
    "- .duplicated()\n",
    "- .isnull()\n",
    "- sum()\n",
    "- .sort_values()"
   ]
  },
  {
   "cell_type": "markdown",
   "id": "d5d54d0a",
   "metadata": {},
   "source": [
    "The following is some programmatic assessment examples."
   ]
  },
  {
   "cell_type": "code",
   "execution_count": 103,
   "id": "e89b18a7",
   "metadata": {
    "scrolled": true
   },
   "outputs": [
    {
     "data": {
      "text/plain": [
       "Doe          6\n",
       "Jakobsen     3\n",
       "Taylor       3\n",
       "Schiavone    2\n",
       "Lâm          2\n",
       "            ..\n",
       "Quynh        1\n",
       "Yudina       1\n",
       "Ekwueme      1\n",
       "Montagu      1\n",
       "Ruais        1\n",
       "Name: surname, Length: 466, dtype: int64"
      ]
     },
     "execution_count": 103,
     "metadata": {},
     "output_type": "execute_result"
    }
   ],
   "source": [
    "patients.surname.value_counts()"
   ]
  },
  {
   "cell_type": "code",
   "execution_count": 104,
   "id": "8cb67dd7",
   "metadata": {},
   "outputs": [
    {
     "data": {
      "text/plain": [
       "123 Main Street             6\n",
       "2778 North Avenue           2\n",
       "2476 Fulton Street          2\n",
       "648 Old Dear Lane           2\n",
       "350 Ross Street             1\n",
       "                           ..\n",
       "4649 Worley Avenue          1\n",
       "1619 Melm Street            1\n",
       "4646 Highland View Drive    1\n",
       "4148 Callison Lane          1\n",
       "2945 Ferguson Street        1\n",
       "Name: address, Length: 483, dtype: int64"
      ]
     },
     "execution_count": 104,
     "metadata": {},
     "output_type": "execute_result"
    }
   ],
   "source": [
    "patients.address.value_counts()"
   ]
  },
  {
   "cell_type": "code",
   "execution_count": 105,
   "id": "a25247f6",
   "metadata": {},
   "outputs": [
    {
     "data": {
      "text/html": [
       "<div>\n",
       "<style scoped>\n",
       "    .dataframe tbody tr th:only-of-type {\n",
       "        vertical-align: middle;\n",
       "    }\n",
       "\n",
       "    .dataframe tbody tr th {\n",
       "        vertical-align: top;\n",
       "    }\n",
       "\n",
       "    .dataframe thead th {\n",
       "        text-align: right;\n",
       "    }\n",
       "</style>\n",
       "<table border=\"1\" class=\"dataframe\">\n",
       "  <thead>\n",
       "    <tr style=\"text-align: right;\">\n",
       "      <th></th>\n",
       "      <th>patient_id</th>\n",
       "      <th>assigned_sex</th>\n",
       "      <th>given_name</th>\n",
       "      <th>surname</th>\n",
       "      <th>address</th>\n",
       "      <th>city</th>\n",
       "      <th>state</th>\n",
       "      <th>zip_code</th>\n",
       "      <th>country</th>\n",
       "      <th>contact</th>\n",
       "      <th>birthdate</th>\n",
       "      <th>weight</th>\n",
       "      <th>height</th>\n",
       "      <th>bmi</th>\n",
       "    </tr>\n",
       "  </thead>\n",
       "  <tbody>\n",
       "    <tr>\n",
       "      <th>29</th>\n",
       "      <td>30</td>\n",
       "      <td>male</td>\n",
       "      <td>Jake</td>\n",
       "      <td>Jakobsen</td>\n",
       "      <td>648 Old Dear Lane</td>\n",
       "      <td>Port Jervis</td>\n",
       "      <td>New York</td>\n",
       "      <td>12771.0</td>\n",
       "      <td>United States</td>\n",
       "      <td>JakobCJakobsen@einrot.com+1 (845) 858-7707</td>\n",
       "      <td>8/1/1985</td>\n",
       "      <td>155.8</td>\n",
       "      <td>67</td>\n",
       "      <td>24.4</td>\n",
       "    </tr>\n",
       "    <tr>\n",
       "      <th>219</th>\n",
       "      <td>220</td>\n",
       "      <td>male</td>\n",
       "      <td>Mỹ</td>\n",
       "      <td>Quynh</td>\n",
       "      <td>NaN</td>\n",
       "      <td>NaN</td>\n",
       "      <td>NaN</td>\n",
       "      <td>NaN</td>\n",
       "      <td>NaN</td>\n",
       "      <td>NaN</td>\n",
       "      <td>4/9/1978</td>\n",
       "      <td>237.8</td>\n",
       "      <td>69</td>\n",
       "      <td>35.1</td>\n",
       "    </tr>\n",
       "    <tr>\n",
       "      <th>229</th>\n",
       "      <td>230</td>\n",
       "      <td>male</td>\n",
       "      <td>John</td>\n",
       "      <td>Doe</td>\n",
       "      <td>123 Main Street</td>\n",
       "      <td>New York</td>\n",
       "      <td>NY</td>\n",
       "      <td>12345.0</td>\n",
       "      <td>United States</td>\n",
       "      <td>johndoe@email.com1234567890</td>\n",
       "      <td>1/1/1975</td>\n",
       "      <td>180.0</td>\n",
       "      <td>72</td>\n",
       "      <td>24.4</td>\n",
       "    </tr>\n",
       "    <tr>\n",
       "      <th>230</th>\n",
       "      <td>231</td>\n",
       "      <td>female</td>\n",
       "      <td>Elisabeth</td>\n",
       "      <td>Knudsen</td>\n",
       "      <td>NaN</td>\n",
       "      <td>NaN</td>\n",
       "      <td>NaN</td>\n",
       "      <td>NaN</td>\n",
       "      <td>NaN</td>\n",
       "      <td>NaN</td>\n",
       "      <td>9/23/1976</td>\n",
       "      <td>165.9</td>\n",
       "      <td>63</td>\n",
       "      <td>29.4</td>\n",
       "    </tr>\n",
       "    <tr>\n",
       "      <th>234</th>\n",
       "      <td>235</td>\n",
       "      <td>female</td>\n",
       "      <td>Martina</td>\n",
       "      <td>Tománková</td>\n",
       "      <td>NaN</td>\n",
       "      <td>NaN</td>\n",
       "      <td>NaN</td>\n",
       "      <td>NaN</td>\n",
       "      <td>NaN</td>\n",
       "      <td>NaN</td>\n",
       "      <td>4/7/1936</td>\n",
       "      <td>199.5</td>\n",
       "      <td>65</td>\n",
       "      <td>33.2</td>\n",
       "    </tr>\n",
       "    <tr>\n",
       "      <th>237</th>\n",
       "      <td>238</td>\n",
       "      <td>male</td>\n",
       "      <td>John</td>\n",
       "      <td>Doe</td>\n",
       "      <td>123 Main Street</td>\n",
       "      <td>New York</td>\n",
       "      <td>NY</td>\n",
       "      <td>12345.0</td>\n",
       "      <td>United States</td>\n",
       "      <td>johndoe@email.com1234567890</td>\n",
       "      <td>1/1/1975</td>\n",
       "      <td>180.0</td>\n",
       "      <td>72</td>\n",
       "      <td>24.4</td>\n",
       "    </tr>\n",
       "    <tr>\n",
       "      <th>242</th>\n",
       "      <td>243</td>\n",
       "      <td>male</td>\n",
       "      <td>John</td>\n",
       "      <td>O'Brian</td>\n",
       "      <td>NaN</td>\n",
       "      <td>NaN</td>\n",
       "      <td>NaN</td>\n",
       "      <td>NaN</td>\n",
       "      <td>NaN</td>\n",
       "      <td>NaN</td>\n",
       "      <td>2/25/1957</td>\n",
       "      <td>205.3</td>\n",
       "      <td>74</td>\n",
       "      <td>26.4</td>\n",
       "    </tr>\n",
       "    <tr>\n",
       "      <th>244</th>\n",
       "      <td>245</td>\n",
       "      <td>male</td>\n",
       "      <td>John</td>\n",
       "      <td>Doe</td>\n",
       "      <td>123 Main Street</td>\n",
       "      <td>New York</td>\n",
       "      <td>NY</td>\n",
       "      <td>12345.0</td>\n",
       "      <td>United States</td>\n",
       "      <td>johndoe@email.com1234567890</td>\n",
       "      <td>1/1/1975</td>\n",
       "      <td>180.0</td>\n",
       "      <td>72</td>\n",
       "      <td>24.4</td>\n",
       "    </tr>\n",
       "    <tr>\n",
       "      <th>249</th>\n",
       "      <td>250</td>\n",
       "      <td>male</td>\n",
       "      <td>Benjamin</td>\n",
       "      <td>Mehler</td>\n",
       "      <td>NaN</td>\n",
       "      <td>NaN</td>\n",
       "      <td>NaN</td>\n",
       "      <td>NaN</td>\n",
       "      <td>NaN</td>\n",
       "      <td>NaN</td>\n",
       "      <td>10/30/1951</td>\n",
       "      <td>146.5</td>\n",
       "      <td>69</td>\n",
       "      <td>21.6</td>\n",
       "    </tr>\n",
       "    <tr>\n",
       "      <th>251</th>\n",
       "      <td>252</td>\n",
       "      <td>male</td>\n",
       "      <td>John</td>\n",
       "      <td>Doe</td>\n",
       "      <td>123 Main Street</td>\n",
       "      <td>New York</td>\n",
       "      <td>NY</td>\n",
       "      <td>12345.0</td>\n",
       "      <td>United States</td>\n",
       "      <td>johndoe@email.com1234567890</td>\n",
       "      <td>1/1/1975</td>\n",
       "      <td>180.0</td>\n",
       "      <td>72</td>\n",
       "      <td>24.4</td>\n",
       "    </tr>\n",
       "    <tr>\n",
       "      <th>257</th>\n",
       "      <td>258</td>\n",
       "      <td>male</td>\n",
       "      <td>Jin</td>\n",
       "      <td>Kung</td>\n",
       "      <td>NaN</td>\n",
       "      <td>NaN</td>\n",
       "      <td>NaN</td>\n",
       "      <td>NaN</td>\n",
       "      <td>NaN</td>\n",
       "      <td>NaN</td>\n",
       "      <td>5/17/1995</td>\n",
       "      <td>231.7</td>\n",
       "      <td>69</td>\n",
       "      <td>34.2</td>\n",
       "    </tr>\n",
       "    <tr>\n",
       "      <th>264</th>\n",
       "      <td>265</td>\n",
       "      <td>female</td>\n",
       "      <td>Wafiyyah</td>\n",
       "      <td>Asfour</td>\n",
       "      <td>NaN</td>\n",
       "      <td>NaN</td>\n",
       "      <td>NaN</td>\n",
       "      <td>NaN</td>\n",
       "      <td>NaN</td>\n",
       "      <td>NaN</td>\n",
       "      <td>11/3/1989</td>\n",
       "      <td>158.6</td>\n",
       "      <td>63</td>\n",
       "      <td>28.1</td>\n",
       "    </tr>\n",
       "    <tr>\n",
       "      <th>269</th>\n",
       "      <td>270</td>\n",
       "      <td>female</td>\n",
       "      <td>Flavia</td>\n",
       "      <td>Fiorentino</td>\n",
       "      <td>NaN</td>\n",
       "      <td>NaN</td>\n",
       "      <td>NaN</td>\n",
       "      <td>NaN</td>\n",
       "      <td>NaN</td>\n",
       "      <td>NaN</td>\n",
       "      <td>10/9/1937</td>\n",
       "      <td>175.2</td>\n",
       "      <td>61</td>\n",
       "      <td>33.1</td>\n",
       "    </tr>\n",
       "    <tr>\n",
       "      <th>277</th>\n",
       "      <td>278</td>\n",
       "      <td>male</td>\n",
       "      <td>John</td>\n",
       "      <td>Doe</td>\n",
       "      <td>123 Main Street</td>\n",
       "      <td>New York</td>\n",
       "      <td>NY</td>\n",
       "      <td>12345.0</td>\n",
       "      <td>United States</td>\n",
       "      <td>johndoe@email.com1234567890</td>\n",
       "      <td>1/1/1975</td>\n",
       "      <td>180.0</td>\n",
       "      <td>72</td>\n",
       "      <td>24.4</td>\n",
       "    </tr>\n",
       "    <tr>\n",
       "      <th>278</th>\n",
       "      <td>279</td>\n",
       "      <td>female</td>\n",
       "      <td>Generosa</td>\n",
       "      <td>Cabán</td>\n",
       "      <td>NaN</td>\n",
       "      <td>NaN</td>\n",
       "      <td>NaN</td>\n",
       "      <td>NaN</td>\n",
       "      <td>NaN</td>\n",
       "      <td>NaN</td>\n",
       "      <td>12/16/1962</td>\n",
       "      <td>124.3</td>\n",
       "      <td>69</td>\n",
       "      <td>18.4</td>\n",
       "    </tr>\n",
       "    <tr>\n",
       "      <th>282</th>\n",
       "      <td>283</td>\n",
       "      <td>female</td>\n",
       "      <td>Sandy</td>\n",
       "      <td>Taylor</td>\n",
       "      <td>2476 Fulton Street</td>\n",
       "      <td>Rainelle</td>\n",
       "      <td>WV</td>\n",
       "      <td>25962.0</td>\n",
       "      <td>United States</td>\n",
       "      <td>304-438-2648SandraCTaylor@dayrep.com</td>\n",
       "      <td>10/23/1960</td>\n",
       "      <td>206.1</td>\n",
       "      <td>64</td>\n",
       "      <td>35.4</td>\n",
       "    </tr>\n",
       "    <tr>\n",
       "      <th>286</th>\n",
       "      <td>287</td>\n",
       "      <td>male</td>\n",
       "      <td>Lewis</td>\n",
       "      <td>Webb</td>\n",
       "      <td>NaN</td>\n",
       "      <td>NaN</td>\n",
       "      <td>NaN</td>\n",
       "      <td>NaN</td>\n",
       "      <td>NaN</td>\n",
       "      <td>NaN</td>\n",
       "      <td>4/1/1979</td>\n",
       "      <td>155.3</td>\n",
       "      <td>68</td>\n",
       "      <td>23.6</td>\n",
       "    </tr>\n",
       "    <tr>\n",
       "      <th>296</th>\n",
       "      <td>297</td>\n",
       "      <td>female</td>\n",
       "      <td>Chỉ</td>\n",
       "      <td>Lâm</td>\n",
       "      <td>NaN</td>\n",
       "      <td>NaN</td>\n",
       "      <td>NaN</td>\n",
       "      <td>NaN</td>\n",
       "      <td>NaN</td>\n",
       "      <td>NaN</td>\n",
       "      <td>5/14/1990</td>\n",
       "      <td>181.1</td>\n",
       "      <td>63</td>\n",
       "      <td>32.1</td>\n",
       "    </tr>\n",
       "    <tr>\n",
       "      <th>502</th>\n",
       "      <td>503</td>\n",
       "      <td>male</td>\n",
       "      <td>Pat</td>\n",
       "      <td>Gersten</td>\n",
       "      <td>2778 North Avenue</td>\n",
       "      <td>Burr</td>\n",
       "      <td>Nebraska</td>\n",
       "      <td>68324.0</td>\n",
       "      <td>United States</td>\n",
       "      <td>PatrickGersten@rhyta.com402-848-4923</td>\n",
       "      <td>5/3/1954</td>\n",
       "      <td>138.2</td>\n",
       "      <td>71</td>\n",
       "      <td>19.3</td>\n",
       "    </tr>\n",
       "  </tbody>\n",
       "</table>\n",
       "</div>"
      ],
      "text/plain": [
       "     patient_id assigned_sex given_name     surname             address  \\\n",
       "29           30         male       Jake    Jakobsen   648 Old Dear Lane   \n",
       "219         220         male         Mỹ       Quynh                 NaN   \n",
       "229         230         male       John         Doe     123 Main Street   \n",
       "230         231       female  Elisabeth     Knudsen                 NaN   \n",
       "234         235       female    Martina   Tománková                 NaN   \n",
       "237         238         male       John         Doe     123 Main Street   \n",
       "242         243         male       John     O'Brian                 NaN   \n",
       "244         245         male       John         Doe     123 Main Street   \n",
       "249         250         male   Benjamin      Mehler                 NaN   \n",
       "251         252         male       John         Doe     123 Main Street   \n",
       "257         258         male        Jin        Kung                 NaN   \n",
       "264         265       female   Wafiyyah      Asfour                 NaN   \n",
       "269         270       female     Flavia  Fiorentino                 NaN   \n",
       "277         278         male       John         Doe     123 Main Street   \n",
       "278         279       female   Generosa       Cabán                 NaN   \n",
       "282         283       female      Sandy      Taylor  2476 Fulton Street   \n",
       "286         287         male      Lewis        Webb                 NaN   \n",
       "296         297       female        Chỉ         Lâm                 NaN   \n",
       "502         503         male        Pat     Gersten   2778 North Avenue   \n",
       "\n",
       "            city     state  zip_code        country  \\\n",
       "29   Port Jervis  New York   12771.0  United States   \n",
       "219          NaN       NaN       NaN            NaN   \n",
       "229     New York        NY   12345.0  United States   \n",
       "230          NaN       NaN       NaN            NaN   \n",
       "234          NaN       NaN       NaN            NaN   \n",
       "237     New York        NY   12345.0  United States   \n",
       "242          NaN       NaN       NaN            NaN   \n",
       "244     New York        NY   12345.0  United States   \n",
       "249          NaN       NaN       NaN            NaN   \n",
       "251     New York        NY   12345.0  United States   \n",
       "257          NaN       NaN       NaN            NaN   \n",
       "264          NaN       NaN       NaN            NaN   \n",
       "269          NaN       NaN       NaN            NaN   \n",
       "277     New York        NY   12345.0  United States   \n",
       "278          NaN       NaN       NaN            NaN   \n",
       "282     Rainelle        WV   25962.0  United States   \n",
       "286          NaN       NaN       NaN            NaN   \n",
       "296          NaN       NaN       NaN            NaN   \n",
       "502         Burr  Nebraska   68324.0  United States   \n",
       "\n",
       "                                        contact   birthdate  weight  height  \\\n",
       "29   JakobCJakobsen@einrot.com+1 (845) 858-7707    8/1/1985   155.8      67   \n",
       "219                                         NaN    4/9/1978   237.8      69   \n",
       "229                 johndoe@email.com1234567890    1/1/1975   180.0      72   \n",
       "230                                         NaN   9/23/1976   165.9      63   \n",
       "234                                         NaN    4/7/1936   199.5      65   \n",
       "237                 johndoe@email.com1234567890    1/1/1975   180.0      72   \n",
       "242                                         NaN   2/25/1957   205.3      74   \n",
       "244                 johndoe@email.com1234567890    1/1/1975   180.0      72   \n",
       "249                                         NaN  10/30/1951   146.5      69   \n",
       "251                 johndoe@email.com1234567890    1/1/1975   180.0      72   \n",
       "257                                         NaN   5/17/1995   231.7      69   \n",
       "264                                         NaN   11/3/1989   158.6      63   \n",
       "269                                         NaN   10/9/1937   175.2      61   \n",
       "277                 johndoe@email.com1234567890    1/1/1975   180.0      72   \n",
       "278                                         NaN  12/16/1962   124.3      69   \n",
       "282        304-438-2648SandraCTaylor@dayrep.com  10/23/1960   206.1      64   \n",
       "286                                         NaN    4/1/1979   155.3      68   \n",
       "296                                         NaN   5/14/1990   181.1      63   \n",
       "502        PatrickGersten@rhyta.com402-848-4923    5/3/1954   138.2      71   \n",
       "\n",
       "      bmi  \n",
       "29   24.4  \n",
       "219  35.1  \n",
       "229  24.4  \n",
       "230  29.4  \n",
       "234  33.2  \n",
       "237  24.4  \n",
       "242  26.4  \n",
       "244  24.4  \n",
       "249  21.6  \n",
       "251  24.4  \n",
       "257  34.2  \n",
       "264  28.1  \n",
       "269  33.1  \n",
       "277  24.4  \n",
       "278  18.4  \n",
       "282  35.4  \n",
       "286  23.6  \n",
       "296  32.1  \n",
       "502  19.3  "
      ]
     },
     "execution_count": 105,
     "metadata": {},
     "output_type": "execute_result"
    }
   ],
   "source": [
    "# Check any duplicated records\n",
    "patients[patients.address.duplicated()]"
   ]
  },
  {
   "cell_type": "code",
   "execution_count": 106,
   "id": "dd104bf4",
   "metadata": {
    "scrolled": true
   },
   "outputs": [
    {
     "data": {
      "text/plain": [
       "210     48.8\n",
       "459    102.1\n",
       "335    102.7\n",
       "74     103.2\n",
       "317    106.0\n",
       "       ...  \n",
       "144    244.9\n",
       "61     244.9\n",
       "283    245.5\n",
       "118    254.5\n",
       "485    255.9\n",
       "Name: weight, Length: 503, dtype: float64"
      ]
     },
     "execution_count": 106,
     "metadata": {},
     "output_type": "execute_result"
    }
   ],
   "source": [
    "patients.weight.sort_values()"
   ]
  },
  {
   "cell_type": "code",
   "execution_count": 107,
   "id": "7fc0671a",
   "metadata": {},
   "outputs": [
    {
     "data": {
      "text/plain": [
       "210    19.055827\n",
       "dtype: float64"
      ]
     },
     "execution_count": 107,
     "metadata": {},
     "output_type": "execute_result"
    }
   ],
   "source": [
    "# Verify Zaitseva's weight is surely in kg units\n",
    "weight_lbs = patients[patients.surname == 'Zaitseva'].weight * 2.20462\n",
    "height_in = patients[patients.surname == 'Zaitseva'].height\n",
    "bmi_check = 703 * weight_lbs / (height_in * height_in)\n",
    "bmi_check"
   ]
  },
  {
   "cell_type": "code",
   "execution_count": 108,
   "id": "7a6be8f0",
   "metadata": {},
   "outputs": [
    {
     "data": {
      "text/plain": [
       "210    19.1\n",
       "Name: bmi, dtype: float64"
      ]
     },
     "execution_count": 108,
     "metadata": {},
     "output_type": "execute_result"
    }
   ],
   "source": [
    "# it matches the bmi metric\n",
    "patients[patients.surname == 'Zaitseva'].bmi"
   ]
  },
  {
   "cell_type": "code",
   "execution_count": 109,
   "id": "590673f4",
   "metadata": {},
   "outputs": [
    {
     "data": {
      "text/plain": [
       "0"
      ]
     },
     "execution_count": 109,
     "metadata": {},
     "output_type": "execute_result"
    }
   ],
   "source": [
    "sum(treatments.auralin.isnull())"
   ]
  },
  {
   "cell_type": "code",
   "execution_count": 110,
   "id": "de6ba3f0",
   "metadata": {},
   "outputs": [
    {
     "data": {
      "text/plain": [
       "0"
      ]
     },
     "execution_count": 110,
     "metadata": {},
     "output_type": "execute_result"
    }
   ],
   "source": [
    "sum(treatments.novodra.isnull())"
   ]
  },
  {
   "cell_type": "code",
   "execution_count": 111,
   "id": "8e1057bf",
   "metadata": {},
   "outputs": [
    {
     "data": {
      "text/plain": [
       "14    given_name\n",
       "15       surname\n",
       "21    given_name\n",
       "22       surname\n",
       "dtype: object"
      ]
     },
     "execution_count": 111,
     "metadata": {},
     "output_type": "execute_result"
    }
   ],
   "source": [
    "# Find duplicated column names across the whole dataset\n",
    "# Seek need to combine tables establish data tidiness\n",
    "all_columns = pd.Series(list(patients) + list(treatments) + list(adverse_reactions))\n",
    "all_columns[all_columns.duplicated()]"
   ]
  },
  {
   "cell_type": "markdown",
   "id": "5aa13683",
   "metadata": {},
   "source": [
    "### The data quality issues\n",
    "Data quality dimensions can help guide your thought while assessing. The four main data quality dimensions are:\n",
    "\n",
    "- **Completeness**: do we have all of the records that we should? Do we have missing records or not? Are there specific rows, columns, or cells missing?\n",
    "- **Validity**: we have the records, but they're not valid, i.e., they don't conform to a defined schema. A schema is a defined set of rules for data. These rules can be real-world constraints (e.g. negative height is impossible) and table-specific constraints (e.g. unique key constraints in tables).\n",
    "- **Accuracy**: inaccurate data is wrong data that is valid. It adheres to the defined schema, but it is still incorrect. Example: a patient's weight that is 5 lbs too heavy because the scale was faulty.\n",
    "- **Consistency**: inconsistent data is both valid and accurate, but there are multiple correct ways of referring to the same thing. Consistency, i.e., a standard format, in columns that represent the same data across tables and/or within tables is desired.\n",
    "\n"
   ]
  },
  {
   "cell_type": "markdown",
   "id": "2a3a79f5",
   "metadata": {},
   "source": [
    "#### To follow the best practce of data wrangling, the data issues are to be documented so someone else can reproduce the result. We document here just above the Clean section"
   ]
  },
  {
   "cell_type": "markdown",
   "id": "ba0acfd2",
   "metadata": {},
   "source": [
    "### The data tideness issues\n",
    "\n",
    "The data is tidy if:\n",
    "1. Every column is a variable\n",
    "2. Every row is an observation\n",
    "3. Every cell is a single value.\n",
    "\n",
    "The five most common problems with messy datasets:\n",
    "- Column headers are values, not variable names.\n",
    "- Multiple variables are stored in one column.\n",
    "- Variables are stored in both rows and columns.\n",
    "- Multiple types of observational units are stored in the same table.\n",
    "- A single observational unit is stored in multiple tables.\n",
    "\n",
    "     *by Hadley Wickham*"
   ]
  },
  {
   "cell_type": "markdown",
   "id": "9295db5a",
   "metadata": {},
   "source": [
    "For data issues that we found, we document here just above the Clean section. \n"
   ]
  },
  {
   "cell_type": "markdown",
   "id": "e3cddcc0",
   "metadata": {},
   "source": [
    "#### Quality Issues\n",
    "\n",
    "##### `patients` table\n",
    "- zip code has four digits sometimes\n",
    "- Tim Neudorf height is 27 in instead of 72 in (using bmi and weight to find the possible height typo)\n",
    "- Full state names sometimes, abbreviations other times\n",
    "- Dsvid Gustafsson in patient_id 9 wrong given name spelling\n",
    "- Missing demographic information (address - contact columns)\n",
    "- Erroneous datatypes (assigned sex, state, zip_code, and birthdate columns)\n",
    "- Multiple phone number formats\n",
    "- Duplicated default John Doe data\n",
    "- Multiple records for Jakobsen, Gersten, Taylor\n",
    "- Kgs instead of lbs for Zaitseva weight (verified by converting the value to lbs and calculated the bmi)\n",
    "\n",
    "\n",
    "##### `treatments` table \n",
    "- missing hbA1c_changes values\n",
    "- The letter u in starting and ending doses for Auralin and Novodra\n",
    "- lowercase given names and surnames\n",
    "- missing records (280 instead of 350)\n",
    "- Erroneous datatypes (auralin and novodra columns)\n",
    "- Inaccurate HbA1c changes (4s mistaken as 9s)\n",
    "- Nulls represented as dashes (-) in auralin and novodra columns\n",
    "\n",
    "##### `adverse_reactions` table\n",
    "- lowercase given names and surnames"
   ]
  },
  {
   "cell_type": "markdown",
   "id": "dcc94c50",
   "metadata": {},
   "source": [
    "#### Tideness Issues\n",
    "- contact column in `patients` table has two variables - a phone number and an email\n",
    "- three variables in two columns, auralin and novodra, in treatments table (treatment, start dose, and end dose) since column headers are values (of a new column named `treatment`), not column names\n",
    "- There should be only two observational unit (patients and treatments) in this dataset  other than 3 units (3 tables). This means adverse reaction should be part of the `treatments` table\n",
    "- Given name and surname columns in `patients` table duplicated in `treatments` and `adverse_reactions` tables \n"
   ]
  },
  {
   "cell_type": "markdown",
   "id": "991529be",
   "metadata": {},
   "source": [
    "#### Up till now, we have done our first run assessment. Next, we are going to clean the data use the documented issues as our guidelines."
   ]
  },
  {
   "cell_type": "markdown",
   "id": "3107d9ea",
   "metadata": {},
   "source": [
    "### Clean\n",
    "\n",
    "We first address missing data, and next, tackle the tidiness issues, and finally clean up the quality issues. The very first thing to do before any cleaning occurs is to make a copy of each piece of data.\n",
    "Programmatic data cleaning requires three steps: define, code, and test.\n",
    "- Define: Convert assessments into how-to guide like pseudo code, also serve as documentation\n",
    "- Code: Translate the pseudo code into code and run it\n",
    "- Test: Verify the result is valid often using code\n",
    "\n",
    "We need to re-visit the assessment part in this step, and restate each issue before each cleanning process.\n",
    "\n",
    "We first deal with the most severe problem - the missing data, and we will make our data tidy, and finally we will clean up all data content problems."
   ]
  },
  {
   "cell_type": "code",
   "execution_count": 4,
   "id": "3d052f53",
   "metadata": {},
   "outputs": [],
   "source": [
    "# First of all, make a copy of data frames\n",
    "patients_clean = patients.copy()\n",
    "treatments_clean = treatments.copy()\n",
    "adverse_reactions_clean = adverse_reactions.copy()"
   ]
  },
  {
   "cell_type": "markdown",
   "id": "99947522",
   "metadata": {},
   "source": [
    "### Missing Data"
   ]
  },
  {
   "cell_type": "markdown",
   "id": "0f05a446",
   "metadata": {},
   "source": [
    "#### `treatments`: Missing records (280 instead of 350)"
   ]
  },
  {
   "cell_type": "markdown",
   "id": "84744575",
   "metadata": {},
   "source": [
    "###### Define"
   ]
  },
  {
   "cell_type": "markdown",
   "id": "871aa3e5",
   "metadata": {},
   "source": [
    "Import the cut treatments from the treatments_cut.csv file, and concatenate it with the treatments_clean DataFrame"
   ]
  },
  {
   "cell_type": "markdown",
   "id": "e25ceca3",
   "metadata": {},
   "source": [
    "###### Code"
   ]
  },
  {
   "cell_type": "code",
   "execution_count": 274,
   "id": "63af45f6",
   "metadata": {},
   "outputs": [],
   "source": [
    "treatments_cut = pd.read_csv('treatments_cut.csv')"
   ]
  },
  {
   "cell_type": "code",
   "execution_count": 275,
   "id": "4c6c69a5",
   "metadata": {},
   "outputs": [],
   "source": [
    "treatments_clean = pd.concat([treatments_clean, treatments_cut], ignore_index=True)"
   ]
  },
  {
   "cell_type": "markdown",
   "id": "f1191350",
   "metadata": {},
   "source": [
    "###### Test"
   ]
  },
  {
   "cell_type": "code",
   "execution_count": 115,
   "id": "1d001d81",
   "metadata": {
    "scrolled": true
   },
   "outputs": [
    {
     "data": {
      "text/plain": [
       "(350, 7)"
      ]
     },
     "execution_count": 115,
     "metadata": {},
     "output_type": "execute_result"
    }
   ],
   "source": [
    "treatments_clean.shape"
   ]
  },
  {
   "cell_type": "markdown",
   "id": "ae4fb73e",
   "metadata": {},
   "source": [
    "#### `treatments`: Missing HbA1c changes and Inaccurate HbA1c changes (leading 4s mistaken as 9s)"
   ]
  },
  {
   "cell_type": "markdown",
   "id": "ee2ae467",
   "metadata": {},
   "source": [
    "##### Define"
   ]
  },
  {
   "cell_type": "markdown",
   "id": "11c85412",
   "metadata": {},
   "source": [
    "Replace HbA1c changes with the recalculated value from subtracting hba1c_start to hba1c_end"
   ]
  },
  {
   "cell_type": "markdown",
   "id": "441734ac",
   "metadata": {},
   "source": [
    "##### Code"
   ]
  },
  {
   "cell_type": "code",
   "execution_count": 276,
   "id": "1a16dc81",
   "metadata": {},
   "outputs": [],
   "source": [
    "# Replace all the cells with the difference of hba1c_start and hba1c_end \n",
    "treatments_clean.hba1c_change = treatments_clean.hba1c_start - treatments_clean.hba1c_end"
   ]
  },
  {
   "cell_type": "markdown",
   "id": "96bd064e",
   "metadata": {},
   "source": [
    "##### Test"
   ]
  },
  {
   "cell_type": "code",
   "execution_count": 117,
   "id": "846dd3f6",
   "metadata": {},
   "outputs": [
    {
     "data": {
      "text/html": [
       "<div>\n",
       "<style scoped>\n",
       "    .dataframe tbody tr th:only-of-type {\n",
       "        vertical-align: middle;\n",
       "    }\n",
       "\n",
       "    .dataframe tbody tr th {\n",
       "        vertical-align: top;\n",
       "    }\n",
       "\n",
       "    .dataframe thead th {\n",
       "        text-align: right;\n",
       "    }\n",
       "</style>\n",
       "<table border=\"1\" class=\"dataframe\">\n",
       "  <thead>\n",
       "    <tr style=\"text-align: right;\">\n",
       "      <th></th>\n",
       "      <th>given_name</th>\n",
       "      <th>surname</th>\n",
       "      <th>auralin</th>\n",
       "      <th>novodra</th>\n",
       "      <th>hba1c_start</th>\n",
       "      <th>hba1c_end</th>\n",
       "      <th>hba1c_change</th>\n",
       "    </tr>\n",
       "  </thead>\n",
       "  <tbody>\n",
       "    <tr>\n",
       "      <th>0</th>\n",
       "      <td>veronika</td>\n",
       "      <td>jindrová</td>\n",
       "      <td>41u - 48u</td>\n",
       "      <td>-</td>\n",
       "      <td>7.63</td>\n",
       "      <td>7.20</td>\n",
       "      <td>0.43</td>\n",
       "    </tr>\n",
       "    <tr>\n",
       "      <th>1</th>\n",
       "      <td>elliot</td>\n",
       "      <td>richardson</td>\n",
       "      <td>-</td>\n",
       "      <td>40u - 45u</td>\n",
       "      <td>7.56</td>\n",
       "      <td>7.09</td>\n",
       "      <td>0.47</td>\n",
       "    </tr>\n",
       "    <tr>\n",
       "      <th>2</th>\n",
       "      <td>yukitaka</td>\n",
       "      <td>takenaka</td>\n",
       "      <td>-</td>\n",
       "      <td>39u - 36u</td>\n",
       "      <td>7.68</td>\n",
       "      <td>7.25</td>\n",
       "      <td>0.43</td>\n",
       "    </tr>\n",
       "    <tr>\n",
       "      <th>3</th>\n",
       "      <td>skye</td>\n",
       "      <td>gormanston</td>\n",
       "      <td>33u - 36u</td>\n",
       "      <td>-</td>\n",
       "      <td>7.97</td>\n",
       "      <td>7.62</td>\n",
       "      <td>0.35</td>\n",
       "    </tr>\n",
       "    <tr>\n",
       "      <th>4</th>\n",
       "      <td>alissa</td>\n",
       "      <td>montez</td>\n",
       "      <td>-</td>\n",
       "      <td>33u - 29u</td>\n",
       "      <td>7.78</td>\n",
       "      <td>7.46</td>\n",
       "      <td>0.32</td>\n",
       "    </tr>\n",
       "  </tbody>\n",
       "</table>\n",
       "</div>"
      ],
      "text/plain": [
       "  given_name     surname    auralin    novodra  hba1c_start  hba1c_end  \\\n",
       "0   veronika    jindrová  41u - 48u          -         7.63       7.20   \n",
       "1     elliot  richardson          -  40u - 45u         7.56       7.09   \n",
       "2   yukitaka    takenaka          -  39u - 36u         7.68       7.25   \n",
       "3       skye  gormanston  33u - 36u          -         7.97       7.62   \n",
       "4     alissa      montez          -  33u - 29u         7.78       7.46   \n",
       "\n",
       "   hba1c_change  \n",
       "0          0.43  \n",
       "1          0.47  \n",
       "2          0.43  \n",
       "3          0.35  \n",
       "4          0.32  "
      ]
     },
     "execution_count": 117,
     "metadata": {},
     "output_type": "execute_result"
    }
   ],
   "source": [
    "treatments_clean.head()"
   ]
  },
  {
   "cell_type": "markdown",
   "id": "e59d4dbc",
   "metadata": {},
   "source": [
    "### Tidiness"
   ]
  },
  {
   "cell_type": "markdown",
   "id": "220c5d25",
   "metadata": {},
   "source": [
    "#### Contact column in `patients` table contains two variables: phone number and email"
   ]
  },
  {
   "cell_type": "markdown",
   "id": "a165c0e8",
   "metadata": {},
   "source": [
    "##### Define"
   ]
  },
  {
   "cell_type": "markdown",
   "id": "d583796b",
   "metadata": {},
   "source": [
    "Extract the email and the phone number from contact into two new columns (email and phone). Join the two new columns into patients_clean and then drop the contact column"
   ]
  },
  {
   "cell_type": "markdown",
   "id": "3a082e31",
   "metadata": {},
   "source": [
    "##### Code"
   ]
  },
  {
   "cell_type": "code",
   "execution_count": 279,
   "id": "a1f4c100",
   "metadata": {},
   "outputs": [],
   "source": [
    "# Extract phone and email from the contact column\n",
    "patients_clean['phone_number'] = patients.contact.str.extract(r'((?:\\d{1,2}\\s)?\\(?\\d{3}\\)?[\\s.-]?\\d{3}[\\s.-]?\\d{4})', expand=True)\n",
    "patients_clean['email'] = patients.contact.str.extract(r'(?P<email>[a-zA-Z]+[a-zA-Z0-9_.+-]+@[a-zA-Z0-9-]+\\.[a-zA-Z-.][a-zA-Z])')"
   ]
  },
  {
   "cell_type": "code",
   "execution_count": 280,
   "id": "687501c4",
   "metadata": {},
   "outputs": [],
   "source": [
    "# Drop the contact column\n",
    "patients_clean.drop(columns='contact', inplace=True)"
   ]
  },
  {
   "cell_type": "markdown",
   "id": "c2b32547",
   "metadata": {},
   "source": [
    "##### Test"
   ]
  },
  {
   "cell_type": "code",
   "execution_count": 285,
   "id": "2b05e770",
   "metadata": {},
   "outputs": [
    {
     "data": {
      "text/plain": [
       "['patient_id',\n",
       " 'assigned_sex',\n",
       " 'given_name',\n",
       " 'surname',\n",
       " 'address',\n",
       " 'city',\n",
       " 'state',\n",
       " 'zip_code',\n",
       " 'country',\n",
       " 'birthdate',\n",
       " 'weight',\n",
       " 'height',\n",
       " 'bmi',\n",
       " 'phone_number',\n",
       " 'email']"
      ]
     },
     "execution_count": 285,
     "metadata": {},
     "output_type": "execute_result"
    }
   ],
   "source": [
    "# List the column labels\n",
    "list(patients_clean)"
   ]
  },
  {
   "cell_type": "code",
   "execution_count": 291,
   "id": "ed614e3b",
   "metadata": {},
   "outputs": [
    {
     "data": {
      "text/plain": [
       "487                    IvarLofgren@armyspy.co\n",
       "386                  SargentFlamand@dayrep.co\n",
       "297                 CsonkaBodor@jourrapide.co\n",
       "477              JuliuszMajewski@superrito.co\n",
       "187            WladyslawWieczorek@teleworm.us\n",
       "491             VanessaFerguson@jourrapide.co\n",
       "255                   MetteSandgreen@gustr.co\n",
       "433                       LeoDVieira@cuvox.de\n",
       "478    EdelmaVillalpandoSantillan@teleworm.us\n",
       "162                  SarinaTabata@teleworm.us\n",
       "85                 BurrellMathieu@teleworm.us\n",
       "404                     AaliyahRice@dayrep.co\n",
       "354                    VivianRHouse@dayrep.co\n",
       "25                        GregorBole@gustr.co\n",
       "259                       SaraDMiles@gustr.co\n",
       "122                      TaHaBoi@superrito.co\n",
       "435                    IvanaKasna@teleworm.us\n",
       "421                     ArminaSauve@dayrep.co\n",
       "216              GabrielleBidwill@teleworm.us\n",
       "320                    NoriyukiSakai@gustr.co\n",
       "26                        EllaLund@armyspy.co\n",
       "242                                       NaN\n",
       "395                BakosKrisztian@teleworm.us\n",
       "87               MagomedKadyrov@jourrapide.co\n",
       "215                          johndoe@email.co\n",
       "Name: email, dtype: object"
      ]
     },
     "execution_count": 291,
     "metadata": {},
     "output_type": "execute_result"
    }
   ],
   "source": [
    "# Randomly sample the email column several times\n",
    "patients_clean.email.sample(25)"
   ]
  },
  {
   "cell_type": "code",
   "execution_count": 292,
   "id": "ca623f7e",
   "metadata": {
    "scrolled": false
   },
   "outputs": [
    {
     "data": {
      "text/plain": [
       "484        336-697-2005\n",
       "22         914-745-6108\n",
       "351        423-799-1730\n",
       "325      1 312 856 6826\n",
       "365        540-986-1369\n",
       "411      1 518 487 4865\n",
       "315    1 (830) 851-4280\n",
       "147        310-268-6864\n",
       "440    1 (573) 493-4748\n",
       "76         612-925-3123\n",
       "498        207-477-0579\n",
       "169        302-474-8075\n",
       "140        217-421-0935\n",
       "389        918-459-9811\n",
       "308        631-875-3023\n",
       "267    1 (785) 823-6728\n",
       "112    1 (757) 885-5669\n",
       "382        989-822-1351\n",
       "356    1 (225) 695-5230\n",
       "36         715-562-7013\n",
       "376    1 (501) 636-4058\n",
       "300        706-616-0152\n",
       "40       1 404 547 4508\n",
       "5          386-334-5237\n",
       "137        954-784-6658\n",
       "Name: phone_number, dtype: object"
      ]
     },
     "execution_count": 292,
     "metadata": {},
     "output_type": "execute_result"
    }
   ],
   "source": [
    "# Randomly sample the phone_number column several times too\n",
    "patients_clean.phone_number.sample(25)"
   ]
  },
  {
   "cell_type": "code",
   "execution_count": 294,
   "id": "4b20e03a",
   "metadata": {},
   "outputs": [
    {
     "data": {
      "text/plain": [
       "404               AaliyahRice@dayrep.co\n",
       "11          Abdul-NurMummarIsa@rhyta.co\n",
       "332               AbelEfrem@fleckens.hu\n",
       "258             AbelYonatan@teleworm.us\n",
       "305    AddolorataLombardi@jourrapide.co\n",
       "Name: email, dtype: object"
      ]
     },
     "execution_count": 294,
     "metadata": {},
     "output_type": "execute_result"
    }
   ],
   "source": [
    "# Confirm that no emails start with an integer\n",
    "patients_clean.email.sort_values().head()"
   ]
  },
  {
   "cell_type": "markdown",
   "id": "03652db8",
   "metadata": {},
   "source": [
    "#### Three variables in two columns in `treatments` table (treatment, start dose and end dose)"
   ]
  },
  {
   "cell_type": "markdown",
   "id": "511c8ced",
   "metadata": {},
   "source": [
    "##### Define"
   ]
  },
  {
   "cell_type": "markdown",
   "id": "e7c69309",
   "metadata": {},
   "source": [
    "Unpivot the DataFrame into a treatment and a dose column from auralin and novodra columns. Then split the dose column on '-' to obtain start_dose and end_dose columns. Drop the intermediate dose column."
   ]
  },
  {
   "cell_type": "markdown",
   "id": "80aa34cb",
   "metadata": {},
   "source": [
    "##### Code"
   ]
  },
  {
   "cell_type": "code",
   "execution_count": 295,
   "id": "6d784101",
   "metadata": {},
   "outputs": [],
   "source": [
    "# Melt the auralin and novodra columns to a treatment column and a dose column\n",
    "treatments_clean = pd.melt(treatments_clean, \n",
    "                           id_vars=['given_name', 'surname', 'hba1c_start', 'hba1c_end', 'hba1c_change'], \n",
    "                           var_name='treatment', value_name='dose')"
   ]
  },
  {
   "cell_type": "code",
   "execution_count": 296,
   "id": "7dd872fb",
   "metadata": {},
   "outputs": [],
   "source": [
    "# Extract the rows with dose values\n",
    "treatments_clean = treatments_clean[treatments_clean.dose != \"-\"]"
   ]
  },
  {
   "cell_type": "code",
   "execution_count": 297,
   "id": "6409a2fe",
   "metadata": {
    "scrolled": true
   },
   "outputs": [
    {
     "data": {
      "text/html": [
       "<div>\n",
       "<style scoped>\n",
       "    .dataframe tbody tr th:only-of-type {\n",
       "        vertical-align: middle;\n",
       "    }\n",
       "\n",
       "    .dataframe tbody tr th {\n",
       "        vertical-align: top;\n",
       "    }\n",
       "\n",
       "    .dataframe thead th {\n",
       "        text-align: right;\n",
       "    }\n",
       "</style>\n",
       "<table border=\"1\" class=\"dataframe\">\n",
       "  <thead>\n",
       "    <tr style=\"text-align: right;\">\n",
       "      <th></th>\n",
       "      <th>given_name</th>\n",
       "      <th>surname</th>\n",
       "      <th>hba1c_start</th>\n",
       "      <th>hba1c_end</th>\n",
       "      <th>hba1c_change</th>\n",
       "      <th>treatment</th>\n",
       "      <th>dose</th>\n",
       "    </tr>\n",
       "  </thead>\n",
       "  <tbody>\n",
       "    <tr>\n",
       "      <th>0</th>\n",
       "      <td>veronika</td>\n",
       "      <td>jindrová</td>\n",
       "      <td>7.63</td>\n",
       "      <td>7.20</td>\n",
       "      <td>0.43</td>\n",
       "      <td>auralin</td>\n",
       "      <td>41u - 48u</td>\n",
       "    </tr>\n",
       "    <tr>\n",
       "      <th>3</th>\n",
       "      <td>skye</td>\n",
       "      <td>gormanston</td>\n",
       "      <td>7.97</td>\n",
       "      <td>7.62</td>\n",
       "      <td>0.35</td>\n",
       "      <td>auralin</td>\n",
       "      <td>33u - 36u</td>\n",
       "    </tr>\n",
       "    <tr>\n",
       "      <th>6</th>\n",
       "      <td>sophia</td>\n",
       "      <td>haugen</td>\n",
       "      <td>7.65</td>\n",
       "      <td>7.27</td>\n",
       "      <td>0.38</td>\n",
       "      <td>auralin</td>\n",
       "      <td>37u - 42u</td>\n",
       "    </tr>\n",
       "    <tr>\n",
       "      <th>7</th>\n",
       "      <td>eddie</td>\n",
       "      <td>archer</td>\n",
       "      <td>7.89</td>\n",
       "      <td>7.55</td>\n",
       "      <td>0.34</td>\n",
       "      <td>auralin</td>\n",
       "      <td>31u - 38u</td>\n",
       "    </tr>\n",
       "    <tr>\n",
       "      <th>9</th>\n",
       "      <td>asia</td>\n",
       "      <td>woźniak</td>\n",
       "      <td>7.76</td>\n",
       "      <td>7.37</td>\n",
       "      <td>0.39</td>\n",
       "      <td>auralin</td>\n",
       "      <td>30u - 36u</td>\n",
       "    </tr>\n",
       "  </tbody>\n",
       "</table>\n",
       "</div>"
      ],
      "text/plain": [
       "  given_name     surname  hba1c_start  hba1c_end  hba1c_change treatment  \\\n",
       "0   veronika    jindrová         7.63       7.20          0.43   auralin   \n",
       "3       skye  gormanston         7.97       7.62          0.35   auralin   \n",
       "6     sophia      haugen         7.65       7.27          0.38   auralin   \n",
       "7      eddie      archer         7.89       7.55          0.34   auralin   \n",
       "9       asia     woźniak         7.76       7.37          0.39   auralin   \n",
       "\n",
       "        dose  \n",
       "0  41u - 48u  \n",
       "3  33u - 36u  \n",
       "6  37u - 42u  \n",
       "7  31u - 38u  \n",
       "9  30u - 36u  "
      ]
     },
     "execution_count": 297,
     "metadata": {},
     "output_type": "execute_result"
    }
   ],
   "source": [
    "treatments_clean.head()"
   ]
  },
  {
   "cell_type": "code",
   "execution_count": 315,
   "id": "46e4c290",
   "metadata": {},
   "outputs": [
    {
     "name": "stderr",
     "output_type": "stream",
     "text": [
      "<ipython-input-315-d917646e9e19>:2: FutureWarning: Columnar iteration over characters will be deprecated in future releases.\n",
      "  treatments_clean['start_dose'], treatments_clean['end_dose'] = treatments_clean.dose.str.split(' - ', 1).str\n"
     ]
    }
   ],
   "source": [
    "# Split the dose information into a start_dose column and a end_dose column\n",
    "treatments_clean['start_dose'], treatments_clean['end_dose'] = treatments_clean.dose.str.split(' - ').str"
   ]
  },
  {
   "cell_type": "code",
   "execution_count": 317,
   "id": "2490cd24",
   "metadata": {},
   "outputs": [],
   "source": [
    "# Drop the dose column\n",
    "treatments_clean.drop(columns='dose', inplace=True)"
   ]
  },
  {
   "cell_type": "code",
   "execution_count": 318,
   "id": "050fc087",
   "metadata": {},
   "outputs": [
    {
     "data": {
      "text/html": [
       "<div>\n",
       "<style scoped>\n",
       "    .dataframe tbody tr th:only-of-type {\n",
       "        vertical-align: middle;\n",
       "    }\n",
       "\n",
       "    .dataframe tbody tr th {\n",
       "        vertical-align: top;\n",
       "    }\n",
       "\n",
       "    .dataframe thead th {\n",
       "        text-align: right;\n",
       "    }\n",
       "</style>\n",
       "<table border=\"1\" class=\"dataframe\">\n",
       "  <thead>\n",
       "    <tr style=\"text-align: right;\">\n",
       "      <th></th>\n",
       "      <th>given_name</th>\n",
       "      <th>surname</th>\n",
       "      <th>hba1c_start</th>\n",
       "      <th>hba1c_end</th>\n",
       "      <th>hba1c_change</th>\n",
       "      <th>treatment</th>\n",
       "      <th>start_dose</th>\n",
       "      <th>end_dose</th>\n",
       "    </tr>\n",
       "  </thead>\n",
       "  <tbody>\n",
       "    <tr>\n",
       "      <th>0</th>\n",
       "      <td>veronika</td>\n",
       "      <td>jindrová</td>\n",
       "      <td>7.63</td>\n",
       "      <td>7.20</td>\n",
       "      <td>0.43</td>\n",
       "      <td>auralin</td>\n",
       "      <td>41u</td>\n",
       "      <td>48u</td>\n",
       "    </tr>\n",
       "    <tr>\n",
       "      <th>1</th>\n",
       "      <td>skye</td>\n",
       "      <td>gormanston</td>\n",
       "      <td>7.97</td>\n",
       "      <td>7.62</td>\n",
       "      <td>0.35</td>\n",
       "      <td>auralin</td>\n",
       "      <td>33u</td>\n",
       "      <td>36u</td>\n",
       "    </tr>\n",
       "    <tr>\n",
       "      <th>2</th>\n",
       "      <td>sophia</td>\n",
       "      <td>haugen</td>\n",
       "      <td>7.65</td>\n",
       "      <td>7.27</td>\n",
       "      <td>0.38</td>\n",
       "      <td>auralin</td>\n",
       "      <td>37u</td>\n",
       "      <td>42u</td>\n",
       "    </tr>\n",
       "    <tr>\n",
       "      <th>3</th>\n",
       "      <td>eddie</td>\n",
       "      <td>archer</td>\n",
       "      <td>7.89</td>\n",
       "      <td>7.55</td>\n",
       "      <td>0.34</td>\n",
       "      <td>auralin</td>\n",
       "      <td>31u</td>\n",
       "      <td>38u</td>\n",
       "    </tr>\n",
       "    <tr>\n",
       "      <th>4</th>\n",
       "      <td>asia</td>\n",
       "      <td>woźniak</td>\n",
       "      <td>7.76</td>\n",
       "      <td>7.37</td>\n",
       "      <td>0.39</td>\n",
       "      <td>auralin</td>\n",
       "      <td>30u</td>\n",
       "      <td>36u</td>\n",
       "    </tr>\n",
       "    <tr>\n",
       "      <th>...</th>\n",
       "      <td>...</td>\n",
       "      <td>...</td>\n",
       "      <td>...</td>\n",
       "      <td>...</td>\n",
       "      <td>...</td>\n",
       "      <td>...</td>\n",
       "      <td>...</td>\n",
       "      <td>...</td>\n",
       "    </tr>\n",
       "    <tr>\n",
       "      <th>345</th>\n",
       "      <td>christopher</td>\n",
       "      <td>woodward</td>\n",
       "      <td>7.51</td>\n",
       "      <td>7.06</td>\n",
       "      <td>0.45</td>\n",
       "      <td>novodra</td>\n",
       "      <td>55u</td>\n",
       "      <td>51u</td>\n",
       "    </tr>\n",
       "    <tr>\n",
       "      <th>346</th>\n",
       "      <td>maret</td>\n",
       "      <td>sultygov</td>\n",
       "      <td>7.67</td>\n",
       "      <td>7.30</td>\n",
       "      <td>0.37</td>\n",
       "      <td>novodra</td>\n",
       "      <td>26u</td>\n",
       "      <td>23u</td>\n",
       "    </tr>\n",
       "    <tr>\n",
       "      <th>347</th>\n",
       "      <td>lixue</td>\n",
       "      <td>hsueh</td>\n",
       "      <td>9.21</td>\n",
       "      <td>8.80</td>\n",
       "      <td>0.41</td>\n",
       "      <td>novodra</td>\n",
       "      <td>22u</td>\n",
       "      <td>23u</td>\n",
       "    </tr>\n",
       "    <tr>\n",
       "      <th>348</th>\n",
       "      <td>jakob</td>\n",
       "      <td>jakobsen</td>\n",
       "      <td>7.96</td>\n",
       "      <td>7.51</td>\n",
       "      <td>0.45</td>\n",
       "      <td>novodra</td>\n",
       "      <td>28u</td>\n",
       "      <td>26u</td>\n",
       "    </tr>\n",
       "    <tr>\n",
       "      <th>349</th>\n",
       "      <td>berta</td>\n",
       "      <td>napolitani</td>\n",
       "      <td>7.68</td>\n",
       "      <td>7.21</td>\n",
       "      <td>0.47</td>\n",
       "      <td>novodra</td>\n",
       "      <td>42u</td>\n",
       "      <td>44u</td>\n",
       "    </tr>\n",
       "  </tbody>\n",
       "</table>\n",
       "<p>350 rows × 8 columns</p>\n",
       "</div>"
      ],
      "text/plain": [
       "      given_name     surname  hba1c_start  hba1c_end  hba1c_change treatment  \\\n",
       "0       veronika    jindrová         7.63       7.20          0.43   auralin   \n",
       "1           skye  gormanston         7.97       7.62          0.35   auralin   \n",
       "2         sophia      haugen         7.65       7.27          0.38   auralin   \n",
       "3          eddie      archer         7.89       7.55          0.34   auralin   \n",
       "4           asia     woźniak         7.76       7.37          0.39   auralin   \n",
       "..           ...         ...          ...        ...           ...       ...   \n",
       "345  christopher    woodward         7.51       7.06          0.45   novodra   \n",
       "346        maret    sultygov         7.67       7.30          0.37   novodra   \n",
       "347        lixue       hsueh         9.21       8.80          0.41   novodra   \n",
       "348        jakob    jakobsen         7.96       7.51          0.45   novodra   \n",
       "349        berta  napolitani         7.68       7.21          0.47   novodra   \n",
       "\n",
       "    start_dose end_dose  \n",
       "0          41u      48u  \n",
       "1          33u      36u  \n",
       "2          37u      42u  \n",
       "3          31u      38u  \n",
       "4          30u      36u  \n",
       "..         ...      ...  \n",
       "345        55u      51u  \n",
       "346        26u      23u  \n",
       "347        22u      23u  \n",
       "348        28u      26u  \n",
       "349        42u      44u  \n",
       "\n",
       "[350 rows x 8 columns]"
      ]
     },
     "execution_count": 318,
     "metadata": {},
     "output_type": "execute_result"
    }
   ],
   "source": [
    "# Reset the index\n",
    "treatments_clean.reset_index(drop=True)"
   ]
  },
  {
   "cell_type": "markdown",
   "id": "80dd1e15",
   "metadata": {},
   "source": [
    "##### Test"
   ]
  },
  {
   "cell_type": "code",
   "execution_count": 140,
   "id": "cf9db857",
   "metadata": {
    "scrolled": true
   },
   "outputs": [
    {
     "name": "stdout",
     "output_type": "stream",
     "text": [
      "<class 'pandas.core.frame.DataFrame'>\n",
      "Int64Index: 350 entries, 0 to 698\n",
      "Data columns (total 8 columns):\n",
      " #   Column        Non-Null Count  Dtype  \n",
      "---  ------        --------------  -----  \n",
      " 0   given_name    350 non-null    object \n",
      " 1   surname       350 non-null    object \n",
      " 2   hba1c_start   350 non-null    float64\n",
      " 3   hba1c_end     350 non-null    float64\n",
      " 4   hba1c_change  350 non-null    float64\n",
      " 5   treatment     350 non-null    object \n",
      " 6   start_dose    350 non-null    int32  \n",
      " 7   end_dose      350 non-null    int32  \n",
      "dtypes: float64(3), int32(2), object(3)\n",
      "memory usage: 30.0+ KB\n"
     ]
    }
   ],
   "source": [
    "treatments_clean.info()"
   ]
  },
  {
   "cell_type": "code",
   "execution_count": 319,
   "id": "f93bd2e3",
   "metadata": {},
   "outputs": [
    {
     "data": {
      "text/html": [
       "<div>\n",
       "<style scoped>\n",
       "    .dataframe tbody tr th:only-of-type {\n",
       "        vertical-align: middle;\n",
       "    }\n",
       "\n",
       "    .dataframe tbody tr th {\n",
       "        vertical-align: top;\n",
       "    }\n",
       "\n",
       "    .dataframe thead th {\n",
       "        text-align: right;\n",
       "    }\n",
       "</style>\n",
       "<table border=\"1\" class=\"dataframe\">\n",
       "  <thead>\n",
       "    <tr style=\"text-align: right;\">\n",
       "      <th></th>\n",
       "      <th>given_name</th>\n",
       "      <th>surname</th>\n",
       "      <th>auralin</th>\n",
       "      <th>novodra</th>\n",
       "      <th>hba1c_start</th>\n",
       "      <th>hba1c_end</th>\n",
       "      <th>hba1c_change</th>\n",
       "    </tr>\n",
       "  </thead>\n",
       "  <tbody>\n",
       "    <tr>\n",
       "      <th>217</th>\n",
       "      <td>taylah</td>\n",
       "      <td>mobourne</td>\n",
       "      <td>41u - 50u</td>\n",
       "      <td>-</td>\n",
       "      <td>7.9</td>\n",
       "      <td>7.51</td>\n",
       "      <td>0.39</td>\n",
       "    </tr>\n",
       "  </tbody>\n",
       "</table>\n",
       "</div>"
      ],
      "text/plain": [
       "    given_name   surname    auralin novodra  hba1c_start  hba1c_end  \\\n",
       "217     taylah  mobourne  41u - 50u       -          7.9       7.51   \n",
       "\n",
       "     hba1c_change  \n",
       "217          0.39  "
      ]
     },
     "execution_count": 319,
     "metadata": {},
     "output_type": "execute_result"
    }
   ],
   "source": [
    "# Take a sample from the original DataFrame\n",
    "treatments.sample()"
   ]
  },
  {
   "cell_type": "code",
   "execution_count": 320,
   "id": "5cb6651d",
   "metadata": {},
   "outputs": [
    {
     "data": {
      "text/html": [
       "<div>\n",
       "<style scoped>\n",
       "    .dataframe tbody tr th:only-of-type {\n",
       "        vertical-align: middle;\n",
       "    }\n",
       "\n",
       "    .dataframe tbody tr th {\n",
       "        vertical-align: top;\n",
       "    }\n",
       "\n",
       "    .dataframe thead th {\n",
       "        text-align: right;\n",
       "    }\n",
       "</style>\n",
       "<table border=\"1\" class=\"dataframe\">\n",
       "  <thead>\n",
       "    <tr style=\"text-align: right;\">\n",
       "      <th></th>\n",
       "      <th>given_name</th>\n",
       "      <th>surname</th>\n",
       "      <th>hba1c_start</th>\n",
       "      <th>hba1c_end</th>\n",
       "      <th>hba1c_change</th>\n",
       "      <th>treatment</th>\n",
       "      <th>start_dose</th>\n",
       "      <th>end_dose</th>\n",
       "    </tr>\n",
       "  </thead>\n",
       "  <tbody>\n",
       "    <tr>\n",
       "      <th>217</th>\n",
       "      <td>taylah</td>\n",
       "      <td>mobourne</td>\n",
       "      <td>7.9</td>\n",
       "      <td>7.51</td>\n",
       "      <td>0.39</td>\n",
       "      <td>auralin</td>\n",
       "      <td>41u</td>\n",
       "      <td>50u</td>\n",
       "    </tr>\n",
       "  </tbody>\n",
       "</table>\n",
       "</div>"
      ],
      "text/plain": [
       "    given_name   surname  hba1c_start  hba1c_end  hba1c_change treatment  \\\n",
       "217     taylah  mobourne          7.9       7.51          0.39   auralin   \n",
       "\n",
       "    start_dose end_dose  \n",
       "217        41u      50u  "
      ]
     },
     "execution_count": 320,
     "metadata": {},
     "output_type": "execute_result"
    }
   ],
   "source": [
    "# To compare, query the same record from treatments_clean\n",
    "treatments_clean.query('given_name == \"taylah\"')"
   ]
  },
  {
   "cell_type": "markdown",
   "id": "f4e39466",
   "metadata": {},
   "source": [
    "#### Adverse reaction should be part of the treatments table"
   ]
  },
  {
   "cell_type": "markdown",
   "id": "2558489e",
   "metadata": {},
   "source": [
    "##### Define"
   ]
  },
  {
   "cell_type": "markdown",
   "id": "a85b656d",
   "metadata": {},
   "source": [
    "Merge both tables on given_name and surname and use outer join"
   ]
  },
  {
   "cell_type": "markdown",
   "id": "2595bf61",
   "metadata": {},
   "source": [
    "##### Code"
   ]
  },
  {
   "cell_type": "code",
   "execution_count": 321,
   "id": "840dd5cd",
   "metadata": {
    "scrolled": true
   },
   "outputs": [],
   "source": [
    "# Outer join the treatments_clean column and the adverse_reactions_clean column on ['given_name', 'surname'] columns\n",
    "treatments_clean = treatments_clean.merge(adverse_reactions_clean, on=['given_name', 'surname'], how='outer')"
   ]
  },
  {
   "cell_type": "markdown",
   "id": "4f652794",
   "metadata": {},
   "source": [
    "##### Test"
   ]
  },
  {
   "cell_type": "code",
   "execution_count": 322,
   "id": "92edf1c4",
   "metadata": {},
   "outputs": [
    {
     "data": {
      "text/html": [
       "<div>\n",
       "<style scoped>\n",
       "    .dataframe tbody tr th:only-of-type {\n",
       "        vertical-align: middle;\n",
       "    }\n",
       "\n",
       "    .dataframe tbody tr th {\n",
       "        vertical-align: top;\n",
       "    }\n",
       "\n",
       "    .dataframe thead th {\n",
       "        text-align: right;\n",
       "    }\n",
       "</style>\n",
       "<table border=\"1\" class=\"dataframe\">\n",
       "  <thead>\n",
       "    <tr style=\"text-align: right;\">\n",
       "      <th></th>\n",
       "      <th>given_name</th>\n",
       "      <th>surname</th>\n",
       "      <th>hba1c_start</th>\n",
       "      <th>hba1c_end</th>\n",
       "      <th>hba1c_change</th>\n",
       "      <th>treatment</th>\n",
       "      <th>start_dose</th>\n",
       "      <th>end_dose</th>\n",
       "      <th>adverse_reaction</th>\n",
       "    </tr>\n",
       "  </thead>\n",
       "  <tbody>\n",
       "    <tr>\n",
       "      <th>0</th>\n",
       "      <td>veronika</td>\n",
       "      <td>jindrová</td>\n",
       "      <td>7.63</td>\n",
       "      <td>7.20</td>\n",
       "      <td>0.43</td>\n",
       "      <td>auralin</td>\n",
       "      <td>41u</td>\n",
       "      <td>48u</td>\n",
       "      <td>NaN</td>\n",
       "    </tr>\n",
       "    <tr>\n",
       "      <th>1</th>\n",
       "      <td>skye</td>\n",
       "      <td>gormanston</td>\n",
       "      <td>7.97</td>\n",
       "      <td>7.62</td>\n",
       "      <td>0.35</td>\n",
       "      <td>auralin</td>\n",
       "      <td>33u</td>\n",
       "      <td>36u</td>\n",
       "      <td>NaN</td>\n",
       "    </tr>\n",
       "    <tr>\n",
       "      <th>2</th>\n",
       "      <td>sophia</td>\n",
       "      <td>haugen</td>\n",
       "      <td>7.65</td>\n",
       "      <td>7.27</td>\n",
       "      <td>0.38</td>\n",
       "      <td>auralin</td>\n",
       "      <td>37u</td>\n",
       "      <td>42u</td>\n",
       "      <td>NaN</td>\n",
       "    </tr>\n",
       "    <tr>\n",
       "      <th>3</th>\n",
       "      <td>eddie</td>\n",
       "      <td>archer</td>\n",
       "      <td>7.89</td>\n",
       "      <td>7.55</td>\n",
       "      <td>0.34</td>\n",
       "      <td>auralin</td>\n",
       "      <td>31u</td>\n",
       "      <td>38u</td>\n",
       "      <td>NaN</td>\n",
       "    </tr>\n",
       "    <tr>\n",
       "      <th>4</th>\n",
       "      <td>asia</td>\n",
       "      <td>woźniak</td>\n",
       "      <td>7.76</td>\n",
       "      <td>7.37</td>\n",
       "      <td>0.39</td>\n",
       "      <td>auralin</td>\n",
       "      <td>30u</td>\n",
       "      <td>36u</td>\n",
       "      <td>NaN</td>\n",
       "    </tr>\n",
       "    <tr>\n",
       "      <th>...</th>\n",
       "      <td>...</td>\n",
       "      <td>...</td>\n",
       "      <td>...</td>\n",
       "      <td>...</td>\n",
       "      <td>...</td>\n",
       "      <td>...</td>\n",
       "      <td>...</td>\n",
       "      <td>...</td>\n",
       "      <td>...</td>\n",
       "    </tr>\n",
       "    <tr>\n",
       "      <th>345</th>\n",
       "      <td>christopher</td>\n",
       "      <td>woodward</td>\n",
       "      <td>7.51</td>\n",
       "      <td>7.06</td>\n",
       "      <td>0.45</td>\n",
       "      <td>novodra</td>\n",
       "      <td>55u</td>\n",
       "      <td>51u</td>\n",
       "      <td>nausea</td>\n",
       "    </tr>\n",
       "    <tr>\n",
       "      <th>346</th>\n",
       "      <td>maret</td>\n",
       "      <td>sultygov</td>\n",
       "      <td>7.67</td>\n",
       "      <td>7.30</td>\n",
       "      <td>0.37</td>\n",
       "      <td>novodra</td>\n",
       "      <td>26u</td>\n",
       "      <td>23u</td>\n",
       "      <td>NaN</td>\n",
       "    </tr>\n",
       "    <tr>\n",
       "      <th>347</th>\n",
       "      <td>lixue</td>\n",
       "      <td>hsueh</td>\n",
       "      <td>9.21</td>\n",
       "      <td>8.80</td>\n",
       "      <td>0.41</td>\n",
       "      <td>novodra</td>\n",
       "      <td>22u</td>\n",
       "      <td>23u</td>\n",
       "      <td>injection site discomfort</td>\n",
       "    </tr>\n",
       "    <tr>\n",
       "      <th>348</th>\n",
       "      <td>jakob</td>\n",
       "      <td>jakobsen</td>\n",
       "      <td>7.96</td>\n",
       "      <td>7.51</td>\n",
       "      <td>0.45</td>\n",
       "      <td>novodra</td>\n",
       "      <td>28u</td>\n",
       "      <td>26u</td>\n",
       "      <td>hypoglycemia</td>\n",
       "    </tr>\n",
       "    <tr>\n",
       "      <th>349</th>\n",
       "      <td>berta</td>\n",
       "      <td>napolitani</td>\n",
       "      <td>7.68</td>\n",
       "      <td>7.21</td>\n",
       "      <td>0.47</td>\n",
       "      <td>novodra</td>\n",
       "      <td>42u</td>\n",
       "      <td>44u</td>\n",
       "      <td>injection site discomfort</td>\n",
       "    </tr>\n",
       "  </tbody>\n",
       "</table>\n",
       "<p>350 rows × 9 columns</p>\n",
       "</div>"
      ],
      "text/plain": [
       "      given_name     surname  hba1c_start  hba1c_end  hba1c_change treatment  \\\n",
       "0       veronika    jindrová         7.63       7.20          0.43   auralin   \n",
       "1           skye  gormanston         7.97       7.62          0.35   auralin   \n",
       "2         sophia      haugen         7.65       7.27          0.38   auralin   \n",
       "3          eddie      archer         7.89       7.55          0.34   auralin   \n",
       "4           asia     woźniak         7.76       7.37          0.39   auralin   \n",
       "..           ...         ...          ...        ...           ...       ...   \n",
       "345  christopher    woodward         7.51       7.06          0.45   novodra   \n",
       "346        maret    sultygov         7.67       7.30          0.37   novodra   \n",
       "347        lixue       hsueh         9.21       8.80          0.41   novodra   \n",
       "348        jakob    jakobsen         7.96       7.51          0.45   novodra   \n",
       "349        berta  napolitani         7.68       7.21          0.47   novodra   \n",
       "\n",
       "    start_dose end_dose           adverse_reaction  \n",
       "0          41u      48u                        NaN  \n",
       "1          33u      36u                        NaN  \n",
       "2          37u      42u                        NaN  \n",
       "3          31u      38u                        NaN  \n",
       "4          30u      36u                        NaN  \n",
       "..         ...      ...                        ...  \n",
       "345        55u      51u                     nausea  \n",
       "346        26u      23u                        NaN  \n",
       "347        22u      23u  injection site discomfort  \n",
       "348        28u      26u               hypoglycemia  \n",
       "349        42u      44u  injection site discomfort  \n",
       "\n",
       "[350 rows x 9 columns]"
      ]
     },
     "execution_count": 322,
     "metadata": {},
     "output_type": "execute_result"
    }
   ],
   "source": [
    "treatments_clean"
   ]
  },
  {
   "cell_type": "code",
   "execution_count": 145,
   "id": "5d474e7e",
   "metadata": {},
   "outputs": [
    {
     "name": "stdout",
     "output_type": "stream",
     "text": [
      "<class 'pandas.core.frame.DataFrame'>\n",
      "Int64Index: 350 entries, 0 to 349\n",
      "Data columns (total 9 columns):\n",
      " #   Column            Non-Null Count  Dtype  \n",
      "---  ------            --------------  -----  \n",
      " 0   given_name        350 non-null    object \n",
      " 1   surname           350 non-null    object \n",
      " 2   hba1c_start       350 non-null    float64\n",
      " 3   hba1c_end         350 non-null    float64\n",
      " 4   hba1c_change      350 non-null    float64\n",
      " 5   treatment         350 non-null    object \n",
      " 6   start_dose        350 non-null    int32  \n",
      " 7   end_dose          350 non-null    int32  \n",
      " 8   adverse_reaction  35 non-null     object \n",
      "dtypes: float64(3), int32(2), object(4)\n",
      "memory usage: 24.6+ KB\n"
     ]
    }
   ],
   "source": [
    "treatments_clean.info()"
   ]
  },
  {
   "cell_type": "markdown",
   "id": "7b0ba78f",
   "metadata": {},
   "source": [
    "#### Dsvid Gustafsson. Given name and surname columns in patients table duplicated in treatments and adverse_reactions tables and Lowercase given names and surnames"
   ]
  },
  {
   "cell_type": "markdown",
   "id": "38d19b72",
   "metadata": {},
   "source": [
    "##### Define"
   ]
  },
  {
   "cell_type": "markdown",
   "id": "a347a437",
   "metadata": {},
   "source": [
    "- Adverse reactions table is no longer deeded so ignore that part. \n",
    "- Replace Dsvid in given_name to David. \n",
    "- Capitalize the first character in given_name and surname from the table treatment. And remove the space for surname and given_name in both patients and treatments tables. \n",
    "- Inner join the patient_id (from patient table) into the treatment table, \n",
    "- Drop treatment_clean's surname and given_name"
   ]
  },
  {
   "cell_type": "markdown",
   "id": "88c38988",
   "metadata": {},
   "source": [
    "##### Code"
   ]
  },
  {
   "cell_type": "code",
   "execution_count": 146,
   "id": "f414a405",
   "metadata": {},
   "outputs": [
    {
     "data": {
      "text/html": [
       "<div>\n",
       "<style scoped>\n",
       "    .dataframe tbody tr th:only-of-type {\n",
       "        vertical-align: middle;\n",
       "    }\n",
       "\n",
       "    .dataframe tbody tr th {\n",
       "        vertical-align: top;\n",
       "    }\n",
       "\n",
       "    .dataframe thead th {\n",
       "        text-align: right;\n",
       "    }\n",
       "</style>\n",
       "<table border=\"1\" class=\"dataframe\">\n",
       "  <thead>\n",
       "    <tr style=\"text-align: right;\">\n",
       "      <th></th>\n",
       "      <th>patient_id</th>\n",
       "      <th>assigned_sex</th>\n",
       "      <th>given_name</th>\n",
       "      <th>surname</th>\n",
       "      <th>address</th>\n",
       "      <th>city</th>\n",
       "      <th>state</th>\n",
       "      <th>zip_code</th>\n",
       "      <th>country</th>\n",
       "      <th>birthdate</th>\n",
       "      <th>weight</th>\n",
       "      <th>height</th>\n",
       "      <th>bmi</th>\n",
       "      <th>phone</th>\n",
       "      <th>email</th>\n",
       "    </tr>\n",
       "  </thead>\n",
       "  <tbody>\n",
       "    <tr>\n",
       "      <th>8</th>\n",
       "      <td>9</td>\n",
       "      <td>male</td>\n",
       "      <td>Dsvid</td>\n",
       "      <td>Gustafsson</td>\n",
       "      <td>1790 Nutter Street</td>\n",
       "      <td>Kansas City</td>\n",
       "      <td>MO</td>\n",
       "      <td>64105.0</td>\n",
       "      <td>United States</td>\n",
       "      <td>3/6/1937</td>\n",
       "      <td>163.9</td>\n",
       "      <td>66</td>\n",
       "      <td>26.5</td>\n",
       "      <td>816-265-9578</td>\n",
       "      <td>DavidGustafsson@armyspy.com</td>\n",
       "    </tr>\n",
       "  </tbody>\n",
       "</table>\n",
       "</div>"
      ],
      "text/plain": [
       "   patient_id assigned_sex given_name     surname             address  \\\n",
       "8           9         male      Dsvid  Gustafsson  1790 Nutter Street   \n",
       "\n",
       "          city state  zip_code        country birthdate  weight  height   bmi  \\\n",
       "8  Kansas City    MO   64105.0  United States  3/6/1937   163.9      66  26.5   \n",
       "\n",
       "          phone                        email  \n",
       "8  816-265-9578  DavidGustafsson@armyspy.com  "
      ]
     },
     "execution_count": 146,
     "metadata": {},
     "output_type": "execute_result"
    }
   ],
   "source": [
    "# Look up where the record is\n",
    "patients_clean.query('given_name == \"Dsvid\"')"
   ]
  },
  {
   "cell_type": "code",
   "execution_count": 323,
   "id": "f90bb465",
   "metadata": {},
   "outputs": [],
   "source": [
    "# Replace the cell with a correct name\n",
    "patients_clean.given_name.replace({'Dsvid': 'David'}, inplace=True)"
   ]
  },
  {
   "cell_type": "code",
   "execution_count": 324,
   "id": "d7cec0f7",
   "metadata": {},
   "outputs": [],
   "source": [
    "# Strip the space and capitalize the first character\n",
    "treatments_clean['surname'] = treatments_clean.surname.str.strip().str.title()\n",
    "treatments_clean['given_name'] = treatments_clean.given_name.str.title().str.strip()\n",
    "patients_clean['surname'] = patients_clean.surname.str.title().str.strip()\n",
    "patients_clean['given_name'] = patients_clean.given_name.str.title().str.strip()"
   ]
  },
  {
   "cell_type": "code",
   "execution_count": 325,
   "id": "57348932",
   "metadata": {},
   "outputs": [],
   "source": [
    "# Perform the inner join \n",
    "treatments_clean = pd.merge(treatments_clean, patients_clean[['given_name', 'surname', 'patient_id']])"
   ]
  },
  {
   "cell_type": "code",
   "execution_count": 328,
   "id": "d16f779f",
   "metadata": {},
   "outputs": [],
   "source": [
    "treatments_clean.drop(columns=['given_name', 'surname'], inplace=True)"
   ]
  },
  {
   "cell_type": "markdown",
   "id": "4a758086",
   "metadata": {},
   "source": [
    "##### Test"
   ]
  },
  {
   "cell_type": "code",
   "execution_count": 156,
   "id": "833216e6",
   "metadata": {
    "scrolled": true
   },
   "outputs": [
    {
     "name": "stdout",
     "output_type": "stream",
     "text": [
      "<class 'pandas.core.frame.DataFrame'>\n",
      "Int64Index: 350 entries, 0 to 349\n",
      "Data columns (total 8 columns):\n",
      " #   Column            Non-Null Count  Dtype  \n",
      "---  ------            --------------  -----  \n",
      " 0   hba1c_start       350 non-null    float64\n",
      " 1   hba1c_end         350 non-null    float64\n",
      " 2   hba1c_change      350 non-null    float64\n",
      " 3   treatment         350 non-null    object \n",
      " 4   start_dose        350 non-null    int32  \n",
      " 5   end_dose          350 non-null    int32  \n",
      " 6   adverse_reaction  35 non-null     object \n",
      " 7   patient_id        350 non-null    int64  \n",
      "dtypes: float64(3), int32(2), int64(1), object(2)\n",
      "memory usage: 21.9+ KB\n"
     ]
    }
   ],
   "source": [
    "# No missing values in patient_id\n",
    "treatments_clean.info()"
   ]
  },
  {
   "cell_type": "code",
   "execution_count": 326,
   "id": "e3298f51",
   "metadata": {},
   "outputs": [
    {
     "data": {
      "text/html": [
       "<div>\n",
       "<style scoped>\n",
       "    .dataframe tbody tr th:only-of-type {\n",
       "        vertical-align: middle;\n",
       "    }\n",
       "\n",
       "    .dataframe tbody tr th {\n",
       "        vertical-align: top;\n",
       "    }\n",
       "\n",
       "    .dataframe thead th {\n",
       "        text-align: right;\n",
       "    }\n",
       "</style>\n",
       "<table border=\"1\" class=\"dataframe\">\n",
       "  <thead>\n",
       "    <tr style=\"text-align: right;\">\n",
       "      <th></th>\n",
       "      <th>given_name</th>\n",
       "      <th>surname</th>\n",
       "      <th>hba1c_start</th>\n",
       "      <th>hba1c_end</th>\n",
       "      <th>hba1c_change</th>\n",
       "      <th>treatment</th>\n",
       "      <th>start_dose</th>\n",
       "      <th>end_dose</th>\n",
       "      <th>adverse_reaction</th>\n",
       "      <th>patient_id</th>\n",
       "    </tr>\n",
       "  </thead>\n",
       "  <tbody>\n",
       "    <tr>\n",
       "      <th>0</th>\n",
       "      <td>Veronika</td>\n",
       "      <td>Jindrová</td>\n",
       "      <td>7.63</td>\n",
       "      <td>7.20</td>\n",
       "      <td>0.43</td>\n",
       "      <td>auralin</td>\n",
       "      <td>41u</td>\n",
       "      <td>48u</td>\n",
       "      <td>NaN</td>\n",
       "      <td>225</td>\n",
       "    </tr>\n",
       "    <tr>\n",
       "      <th>1</th>\n",
       "      <td>Skye</td>\n",
       "      <td>Gormanston</td>\n",
       "      <td>7.97</td>\n",
       "      <td>7.62</td>\n",
       "      <td>0.35</td>\n",
       "      <td>auralin</td>\n",
       "      <td>33u</td>\n",
       "      <td>36u</td>\n",
       "      <td>NaN</td>\n",
       "      <td>242</td>\n",
       "    </tr>\n",
       "    <tr>\n",
       "      <th>2</th>\n",
       "      <td>Sophia</td>\n",
       "      <td>Haugen</td>\n",
       "      <td>7.65</td>\n",
       "      <td>7.27</td>\n",
       "      <td>0.38</td>\n",
       "      <td>auralin</td>\n",
       "      <td>37u</td>\n",
       "      <td>42u</td>\n",
       "      <td>NaN</td>\n",
       "      <td>345</td>\n",
       "    </tr>\n",
       "    <tr>\n",
       "      <th>3</th>\n",
       "      <td>Eddie</td>\n",
       "      <td>Archer</td>\n",
       "      <td>7.89</td>\n",
       "      <td>7.55</td>\n",
       "      <td>0.34</td>\n",
       "      <td>auralin</td>\n",
       "      <td>31u</td>\n",
       "      <td>38u</td>\n",
       "      <td>NaN</td>\n",
       "      <td>276</td>\n",
       "    </tr>\n",
       "    <tr>\n",
       "      <th>4</th>\n",
       "      <td>Asia</td>\n",
       "      <td>Woźniak</td>\n",
       "      <td>7.76</td>\n",
       "      <td>7.37</td>\n",
       "      <td>0.39</td>\n",
       "      <td>auralin</td>\n",
       "      <td>30u</td>\n",
       "      <td>36u</td>\n",
       "      <td>NaN</td>\n",
       "      <td>15</td>\n",
       "    </tr>\n",
       "    <tr>\n",
       "      <th>...</th>\n",
       "      <td>...</td>\n",
       "      <td>...</td>\n",
       "      <td>...</td>\n",
       "      <td>...</td>\n",
       "      <td>...</td>\n",
       "      <td>...</td>\n",
       "      <td>...</td>\n",
       "      <td>...</td>\n",
       "      <td>...</td>\n",
       "      <td>...</td>\n",
       "    </tr>\n",
       "    <tr>\n",
       "      <th>345</th>\n",
       "      <td>Christopher</td>\n",
       "      <td>Woodward</td>\n",
       "      <td>7.51</td>\n",
       "      <td>7.06</td>\n",
       "      <td>0.45</td>\n",
       "      <td>novodra</td>\n",
       "      <td>55u</td>\n",
       "      <td>51u</td>\n",
       "      <td>nausea</td>\n",
       "      <td>153</td>\n",
       "    </tr>\n",
       "    <tr>\n",
       "      <th>346</th>\n",
       "      <td>Maret</td>\n",
       "      <td>Sultygov</td>\n",
       "      <td>7.67</td>\n",
       "      <td>7.30</td>\n",
       "      <td>0.37</td>\n",
       "      <td>novodra</td>\n",
       "      <td>26u</td>\n",
       "      <td>23u</td>\n",
       "      <td>NaN</td>\n",
       "      <td>420</td>\n",
       "    </tr>\n",
       "    <tr>\n",
       "      <th>347</th>\n",
       "      <td>Lixue</td>\n",
       "      <td>Hsueh</td>\n",
       "      <td>9.21</td>\n",
       "      <td>8.80</td>\n",
       "      <td>0.41</td>\n",
       "      <td>novodra</td>\n",
       "      <td>22u</td>\n",
       "      <td>23u</td>\n",
       "      <td>injection site discomfort</td>\n",
       "      <td>336</td>\n",
       "    </tr>\n",
       "    <tr>\n",
       "      <th>348</th>\n",
       "      <td>Jakob</td>\n",
       "      <td>Jakobsen</td>\n",
       "      <td>7.96</td>\n",
       "      <td>7.51</td>\n",
       "      <td>0.45</td>\n",
       "      <td>novodra</td>\n",
       "      <td>28u</td>\n",
       "      <td>26u</td>\n",
       "      <td>hypoglycemia</td>\n",
       "      <td>25</td>\n",
       "    </tr>\n",
       "    <tr>\n",
       "      <th>349</th>\n",
       "      <td>Berta</td>\n",
       "      <td>Napolitani</td>\n",
       "      <td>7.68</td>\n",
       "      <td>7.21</td>\n",
       "      <td>0.47</td>\n",
       "      <td>novodra</td>\n",
       "      <td>42u</td>\n",
       "      <td>44u</td>\n",
       "      <td>injection site discomfort</td>\n",
       "      <td>477</td>\n",
       "    </tr>\n",
       "  </tbody>\n",
       "</table>\n",
       "<p>350 rows × 10 columns</p>\n",
       "</div>"
      ],
      "text/plain": [
       "      given_name     surname  hba1c_start  hba1c_end  hba1c_change treatment  \\\n",
       "0       Veronika    Jindrová         7.63       7.20          0.43   auralin   \n",
       "1           Skye  Gormanston         7.97       7.62          0.35   auralin   \n",
       "2         Sophia      Haugen         7.65       7.27          0.38   auralin   \n",
       "3          Eddie      Archer         7.89       7.55          0.34   auralin   \n",
       "4           Asia     Woźniak         7.76       7.37          0.39   auralin   \n",
       "..           ...         ...          ...        ...           ...       ...   \n",
       "345  Christopher    Woodward         7.51       7.06          0.45   novodra   \n",
       "346        Maret    Sultygov         7.67       7.30          0.37   novodra   \n",
       "347        Lixue       Hsueh         9.21       8.80          0.41   novodra   \n",
       "348        Jakob    Jakobsen         7.96       7.51          0.45   novodra   \n",
       "349        Berta  Napolitani         7.68       7.21          0.47   novodra   \n",
       "\n",
       "    start_dose end_dose           adverse_reaction  patient_id  \n",
       "0          41u      48u                        NaN         225  \n",
       "1          33u      36u                        NaN         242  \n",
       "2          37u      42u                        NaN         345  \n",
       "3          31u      38u                        NaN         276  \n",
       "4          30u      36u                        NaN          15  \n",
       "..         ...      ...                        ...         ...  \n",
       "345        55u      51u                     nausea         153  \n",
       "346        26u      23u                        NaN         420  \n",
       "347        22u      23u  injection site discomfort         336  \n",
       "348        28u      26u               hypoglycemia          25  \n",
       "349        42u      44u  injection site discomfort         477  \n",
       "\n",
       "[350 rows x 10 columns]"
      ]
     },
     "execution_count": 326,
     "metadata": {},
     "output_type": "execute_result"
    }
   ],
   "source": [
    "treatments_clean"
   ]
  },
  {
   "cell_type": "code",
   "execution_count": 331,
   "id": "64e46de2",
   "metadata": {},
   "outputs": [
    {
     "data": {
      "text/plain": [
       "22    patient_id\n",
       "dtype: object"
      ]
     },
     "execution_count": 331,
     "metadata": {},
     "output_type": "execute_result"
    }
   ],
   "source": [
    "# And patient ID should be the only duplicate column\n",
    "all_columns = pd.Series(list(patients_clean) + list(treatments_clean))\n",
    "all_columns[all_columns.duplicated()]"
   ]
  },
  {
   "cell_type": "markdown",
   "id": "54654fa4",
   "metadata": {},
   "source": [
    "### Quality"
   ]
  },
  {
   "cell_type": "markdown",
   "id": "3bcd6b10",
   "metadata": {},
   "source": [
    "#### Zip code is a float not a string and Zip code has four digits sometimes"
   ]
  },
  {
   "cell_type": "markdown",
   "id": "a9e463d2",
   "metadata": {},
   "source": [
    "##### Define"
   ]
  },
  {
   "cell_type": "markdown",
   "id": "8da75705",
   "metadata": {},
   "source": [
    "- Convert the floating point type to the string type using astype\n",
    "- Remove '.0' using string slicing\n",
    "- Fill or pad 0 four digit zip codes with a leading 0"
   ]
  },
  {
   "cell_type": "markdown",
   "id": "74351272",
   "metadata": {},
   "source": [
    "##### Code"
   ]
  },
  {
   "cell_type": "code",
   "execution_count": 343,
   "id": "9cf13081",
   "metadata": {},
   "outputs": [],
   "source": [
    "# Change the data type, slide the string and pad the 0s\n",
    "patients_clean.zip_code = patients_clean.zip_code.astype('str').str[:-2].str.zfill(5)"
   ]
  },
  {
   "cell_type": "markdown",
   "id": "0bdc7163",
   "metadata": {},
   "source": [
    "##### Test"
   ]
  },
  {
   "cell_type": "code",
   "execution_count": 345,
   "id": "36020c10",
   "metadata": {
    "scrolled": false
   },
   "outputs": [
    {
     "data": {
      "text/plain": [
       "0000n    12\n",
       "12345     6\n",
       "30303     4\n",
       "10004     4\n",
       "15205     3\n",
       "         ..\n",
       "31401     1\n",
       "19020     1\n",
       "31901     1\n",
       "30902     1\n",
       "99701     1\n",
       "Name: zip_code, Length: 431, dtype: int64"
      ]
     },
     "execution_count": 345,
     "metadata": {},
     "output_type": "execute_result"
    }
   ],
   "source": [
    "patients_clean.zip_code.value_counts()"
   ]
  },
  {
   "cell_type": "code",
   "execution_count": 348,
   "id": "74491a58",
   "metadata": {},
   "outputs": [],
   "source": [
    "# Reconvert NaNs entries that were converted to '0000n' by code above\n",
    "patients_clean.zip_code = patients_clean.zip_code.replace('0000n', np.nan)"
   ]
  },
  {
   "cell_type": "code",
   "execution_count": 349,
   "id": "82ab2e62",
   "metadata": {},
   "outputs": [
    {
     "data": {
      "text/plain": [
       "12345    6\n",
       "30303    4\n",
       "10004    4\n",
       "15205    3\n",
       "90017    3\n",
       "        ..\n",
       "19020    1\n",
       "31901    1\n",
       "30902    1\n",
       "90025    1\n",
       "99701    1\n",
       "Name: zip_code, Length: 430, dtype: int64"
      ]
     },
     "execution_count": 349,
     "metadata": {},
     "output_type": "execute_result"
    }
   ],
   "source": [
    "# find extra issues, this require additional attention\n",
    "patients_clean.zip_code.value_counts()"
   ]
  },
  {
   "cell_type": "code",
   "execution_count": 354,
   "id": "92cf59ba",
   "metadata": {},
   "outputs": [
    {
     "data": {
      "text/plain": [
       "301    10004\n",
       "479    91762\n",
       "34     04474\n",
       "156    55113\n",
       "310    66219\n",
       "120    94108\n",
       "338    70001\n",
       "334    60103\n",
       "346    13904\n",
       "77     40507\n",
       "489    94549\n",
       "158    74136\n",
       "387    33301\n",
       "259    33610\n",
       "175    62650\n",
       "400    53073\n",
       "43     82939\n",
       "144    46804\n",
       "170    11227\n",
       "484    28716\n",
       "52     50322\n",
       "149    78058\n",
       "344    30303\n",
       "335    47933\n",
       "38     01581\n",
       "116    41601\n",
       "471    97205\n",
       "248    68859\n",
       "380    08232\n",
       "9      10011\n",
       "354    07102\n",
       "246    92704\n",
       "0      92390\n",
       "355    02905\n",
       "57     91941\n",
       "41     56230\n",
       "1      61812\n",
       "326    12303\n",
       "36     54701\n",
       "269      NaN\n",
       "253    32810\n",
       "93     33323\n",
       "219      NaN\n",
       "85     34746\n",
       "432    77020\n",
       "Name: zip_code, dtype: object"
      ]
     },
     "execution_count": 354,
     "metadata": {},
     "output_type": "execute_result"
    }
   ],
   "source": [
    "# Sample the data several times\n",
    "patients_clean.zip_code.sample(45)"
   ]
  },
  {
   "cell_type": "markdown",
   "id": "d29da7b3",
   "metadata": {},
   "source": [
    "#### Tim Neudorf height is 27 in instead of 72 in"
   ]
  },
  {
   "cell_type": "markdown",
   "id": "f7fb3529",
   "metadata": {},
   "source": [
    "##### Define"
   ]
  },
  {
   "cell_type": "markdown",
   "id": "4b472972",
   "metadata": {},
   "source": [
    "Change Tim Neudorf's height from 27 to 72"
   ]
  },
  {
   "cell_type": "markdown",
   "id": "693382a0",
   "metadata": {},
   "source": [
    "##### Code"
   ]
  },
  {
   "cell_type": "code",
   "execution_count": 161,
   "id": "8960faa3",
   "metadata": {},
   "outputs": [
    {
     "data": {
      "text/html": [
       "<div>\n",
       "<style scoped>\n",
       "    .dataframe tbody tr th:only-of-type {\n",
       "        vertical-align: middle;\n",
       "    }\n",
       "\n",
       "    .dataframe tbody tr th {\n",
       "        vertical-align: top;\n",
       "    }\n",
       "\n",
       "    .dataframe thead th {\n",
       "        text-align: right;\n",
       "    }\n",
       "</style>\n",
       "<table border=\"1\" class=\"dataframe\">\n",
       "  <thead>\n",
       "    <tr style=\"text-align: right;\">\n",
       "      <th></th>\n",
       "      <th>patient_id</th>\n",
       "      <th>assigned_sex</th>\n",
       "      <th>given_name</th>\n",
       "      <th>surname</th>\n",
       "      <th>address</th>\n",
       "      <th>city</th>\n",
       "      <th>state</th>\n",
       "      <th>zip_code</th>\n",
       "      <th>country</th>\n",
       "      <th>contact</th>\n",
       "      <th>birthdate</th>\n",
       "      <th>weight</th>\n",
       "      <th>height</th>\n",
       "      <th>bmi</th>\n",
       "    </tr>\n",
       "  </thead>\n",
       "  <tbody>\n",
       "    <tr>\n",
       "      <th>4</th>\n",
       "      <td>5</td>\n",
       "      <td>male</td>\n",
       "      <td>Tim</td>\n",
       "      <td>Neudorf</td>\n",
       "      <td>1428 Turkey Pen Lane</td>\n",
       "      <td>Dothan</td>\n",
       "      <td>AL</td>\n",
       "      <td>36303.0</td>\n",
       "      <td>United States</td>\n",
       "      <td>334-515-7487TimNeudorf@cuvox.de</td>\n",
       "      <td>2/18/1928</td>\n",
       "      <td>192.3</td>\n",
       "      <td>27</td>\n",
       "      <td>26.1</td>\n",
       "    </tr>\n",
       "  </tbody>\n",
       "</table>\n",
       "</div>"
      ],
      "text/plain": [
       "   patient_id assigned_sex given_name  surname               address    city  \\\n",
       "4           5         male        Tim  Neudorf  1428 Turkey Pen Lane  Dothan   \n",
       "\n",
       "  state  zip_code        country                          contact  birthdate  \\\n",
       "4    AL   36303.0  United States  334-515-7487TimNeudorf@cuvox.de  2/18/1928   \n",
       "\n",
       "   weight  height   bmi  \n",
       "4   192.3      27  26.1  "
      ]
     },
     "execution_count": 161,
     "metadata": {},
     "output_type": "execute_result"
    }
   ],
   "source": [
    "# Query this record\n",
    "patients.query('height == 27')"
   ]
  },
  {
   "cell_type": "code",
   "execution_count": 356,
   "id": "fde902f5",
   "metadata": {},
   "outputs": [],
   "source": [
    "# Replace this cell\n",
    "patients_clean.at[4, 'height'] = 72"
   ]
  },
  {
   "cell_type": "markdown",
   "id": "bec89b54",
   "metadata": {},
   "source": [
    "##### Test"
   ]
  },
  {
   "cell_type": "code",
   "execution_count": 357,
   "id": "97a29ece",
   "metadata": {},
   "outputs": [
    {
     "data": {
      "text/html": [
       "<div>\n",
       "<style scoped>\n",
       "    .dataframe tbody tr th:only-of-type {\n",
       "        vertical-align: middle;\n",
       "    }\n",
       "\n",
       "    .dataframe tbody tr th {\n",
       "        vertical-align: top;\n",
       "    }\n",
       "\n",
       "    .dataframe thead th {\n",
       "        text-align: right;\n",
       "    }\n",
       "</style>\n",
       "<table border=\"1\" class=\"dataframe\">\n",
       "  <thead>\n",
       "    <tr style=\"text-align: right;\">\n",
       "      <th></th>\n",
       "      <th>patient_id</th>\n",
       "      <th>assigned_sex</th>\n",
       "      <th>given_name</th>\n",
       "      <th>surname</th>\n",
       "      <th>address</th>\n",
       "      <th>city</th>\n",
       "      <th>state</th>\n",
       "      <th>zip_code</th>\n",
       "      <th>country</th>\n",
       "      <th>birthdate</th>\n",
       "      <th>weight</th>\n",
       "      <th>height</th>\n",
       "      <th>bmi</th>\n",
       "      <th>phone_number</th>\n",
       "      <th>email</th>\n",
       "    </tr>\n",
       "  </thead>\n",
       "  <tbody>\n",
       "  </tbody>\n",
       "</table>\n",
       "</div>"
      ],
      "text/plain": [
       "Empty DataFrame\n",
       "Columns: [patient_id, assigned_sex, given_name, surname, address, city, state, zip_code, country, birthdate, weight, height, bmi, phone_number, email]\n",
       "Index: []"
      ]
     },
     "execution_count": 357,
     "metadata": {},
     "output_type": "execute_result"
    }
   ],
   "source": [
    "# This should return empty records\n",
    "patients_clean[patients_clean.height == 27]"
   ]
  },
  {
   "cell_type": "code",
   "execution_count": 359,
   "id": "7a49f269",
   "metadata": {},
   "outputs": [
    {
     "data": {
      "text/html": [
       "<div>\n",
       "<style scoped>\n",
       "    .dataframe tbody tr th:only-of-type {\n",
       "        vertical-align: middle;\n",
       "    }\n",
       "\n",
       "    .dataframe tbody tr th {\n",
       "        vertical-align: top;\n",
       "    }\n",
       "\n",
       "    .dataframe thead th {\n",
       "        text-align: right;\n",
       "    }\n",
       "</style>\n",
       "<table border=\"1\" class=\"dataframe\">\n",
       "  <thead>\n",
       "    <tr style=\"text-align: right;\">\n",
       "      <th></th>\n",
       "      <th>patient_id</th>\n",
       "      <th>assigned_sex</th>\n",
       "      <th>given_name</th>\n",
       "      <th>surname</th>\n",
       "      <th>address</th>\n",
       "      <th>city</th>\n",
       "      <th>state</th>\n",
       "      <th>zip_code</th>\n",
       "      <th>country</th>\n",
       "      <th>birthdate</th>\n",
       "      <th>weight</th>\n",
       "      <th>height</th>\n",
       "      <th>bmi</th>\n",
       "      <th>phone_number</th>\n",
       "      <th>email</th>\n",
       "    </tr>\n",
       "  </thead>\n",
       "  <tbody>\n",
       "    <tr>\n",
       "      <th>4</th>\n",
       "      <td>5</td>\n",
       "      <td>male</td>\n",
       "      <td>Tim</td>\n",
       "      <td>Neudorf</td>\n",
       "      <td>1428 Turkey Pen Lane</td>\n",
       "      <td>Dothan</td>\n",
       "      <td>AL</td>\n",
       "      <td>36303</td>\n",
       "      <td>United States</td>\n",
       "      <td>2/18/1928</td>\n",
       "      <td>192.3</td>\n",
       "      <td>72</td>\n",
       "      <td>26.1</td>\n",
       "      <td>334-515-7487</td>\n",
       "      <td>TimNeudorf@cuvox.de</td>\n",
       "    </tr>\n",
       "  </tbody>\n",
       "</table>\n",
       "</div>"
      ],
      "text/plain": [
       "   patient_id assigned_sex given_name  surname               address    city  \\\n",
       "4           5         male        Tim  Neudorf  1428 Turkey Pen Lane  Dothan   \n",
       "\n",
       "  state zip_code        country  birthdate  weight  height   bmi  \\\n",
       "4    AL    36303  United States  2/18/1928   192.3      72  26.1   \n",
       "\n",
       "   phone_number                email  \n",
       "4  334-515-7487  TimNeudorf@cuvox.de  "
      ]
     },
     "execution_count": 359,
     "metadata": {},
     "output_type": "execute_result"
    }
   ],
   "source": [
    "# Confirm the replacement is working\n",
    "patients_clean[patients_clean.surname == 'Neudorf']"
   ]
  },
  {
   "cell_type": "markdown",
   "id": "8390e233",
   "metadata": {},
   "source": [
    "#### Full state names sometimes, abbreviations other times"
   ]
  },
  {
   "cell_type": "markdown",
   "id": "65ae45ab",
   "metadata": {},
   "source": [
    "##### Define"
   ]
  },
  {
   "cell_type": "markdown",
   "id": "996a4dcb",
   "metadata": {},
   "source": [
    "- Find out how many states are in full names\n",
    "- Create a dictionary for the mapping\n",
    "- Create a function to find the full name, and return the abbreviated name\n",
    "- Apply the function to each state in the state column and replace it if necessary"
   ]
  },
  {
   "cell_type": "markdown",
   "id": "3d556f63",
   "metadata": {},
   "source": [
    "##### Code"
   ]
  },
  {
   "cell_type": "code",
   "execution_count": 164,
   "id": "ccc044ac",
   "metadata": {},
   "outputs": [
    {
     "data": {
      "text/plain": [
       "California    36\n",
       "New York      25\n",
       "Illinois      14\n",
       "Florida       13\n",
       "Nebraska       4\n",
       "Name: state, dtype: int64"
      ]
     },
     "execution_count": 164,
     "metadata": {},
     "output_type": "execute_result"
    }
   ],
   "source": [
    "# Find out what states are not in abbreviated form\n",
    "patients_clean.state[patients_clean.state.str.len() > 2].value_counts()"
   ]
  },
  {
   "cell_type": "code",
   "execution_count": 360,
   "id": "de82cdb2",
   "metadata": {},
   "outputs": [],
   "source": [
    "# Mapping from full state name to abbreviation\n",
    "state_abbrev = {'California': 'CA',\n",
    "                'New York': 'NY',\n",
    "                'Illinois': 'IL',\n",
    "                'Florida': 'FL',\n",
    "                'Nebraska': 'NE'}"
   ]
  },
  {
   "cell_type": "code",
   "execution_count": 361,
   "id": "ae320c66",
   "metadata": {},
   "outputs": [],
   "source": [
    "# Function to apply\n",
    "def abbreviate_state(state):\n",
    "    if state in state_abbrev.keys():\n",
    "        return state_abbrev[state]\n",
    "    else:\n",
    "        return state"
   ]
  },
  {
   "cell_type": "code",
   "execution_count": 362,
   "id": "1cc9b1af",
   "metadata": {},
   "outputs": [],
   "source": [
    "# Use apply function for each element of column state\n",
    "patients_clean['state'] = patients_clean.state.apply(abbreviate_state)"
   ]
  },
  {
   "cell_type": "markdown",
   "id": "6d6d27e5",
   "metadata": {},
   "source": [
    "##### Test"
   ]
  },
  {
   "cell_type": "code",
   "execution_count": 365,
   "id": "8c240f1c",
   "metadata": {},
   "outputs": [
    {
     "data": {
      "text/plain": [
       "0"
      ]
     },
     "execution_count": 365,
     "metadata": {},
     "output_type": "execute_result"
    }
   ],
   "source": [
    "# Should return zero\n",
    "patients_clean.state[patients_clean.state.str.len() > 2].sum()"
   ]
  },
  {
   "cell_type": "code",
   "execution_count": 366,
   "id": "36868579",
   "metadata": {},
   "outputs": [
    {
     "data": {
      "text/plain": [
       "CA    60\n",
       "NY    47\n",
       "TX    32\n",
       "IL    24\n",
       "FL    22\n",
       "MA    22\n",
       "PA    18\n",
       "GA    15\n",
       "OH    14\n",
       "MI    13\n",
       "OK    13\n",
       "LA    13\n",
       "NJ    12\n",
       "VA    11\n",
       "WI    10\n",
       "MS    10\n",
       "IN     9\n",
       "TN     9\n",
       "AL     9\n",
       "MN     9\n",
       "KY     8\n",
       "NC     8\n",
       "WA     8\n",
       "MO     7\n",
       "KS     6\n",
       "NV     6\n",
       "ID     6\n",
       "NE     6\n",
       "SC     5\n",
       "IA     5\n",
       "CT     5\n",
       "RI     4\n",
       "CO     4\n",
       "AZ     4\n",
       "AR     4\n",
       "ND     4\n",
       "ME     4\n",
       "SD     3\n",
       "OR     3\n",
       "MD     3\n",
       "WV     3\n",
       "DE     3\n",
       "VT     2\n",
       "DC     2\n",
       "MT     2\n",
       "WY     1\n",
       "AK     1\n",
       "NH     1\n",
       "NM     1\n",
       "Name: state, dtype: int64"
      ]
     },
     "execution_count": 366,
     "metadata": {},
     "output_type": "execute_result"
    }
   ],
   "source": [
    "# Skim through the states\n",
    "patients_clean.state.value_counts()"
   ]
  },
  {
   "cell_type": "markdown",
   "id": "82e2dbb3",
   "metadata": {},
   "source": [
    "#### Erroneous datatypes (assigned sex, state, zip_code, and birthdate columns) and Erroneous datatypes (auralin and novodra columns) and The letter 'u' in starting and ending doses for Auralin and Novodra"
   ]
  },
  {
   "cell_type": "markdown",
   "id": "531f2038",
   "metadata": {},
   "source": [
    "##### Define"
   ]
  },
  {
   "cell_type": "markdown",
   "id": "07d36163",
   "metadata": {},
   "source": [
    "Convert assigned sex and state to categorical data types. Zip code data type was already addressed above. Convert birthdate to datetime data type. Strip the letter 'u' in start dose and end dose and convert those columns to data type integer."
   ]
  },
  {
   "cell_type": "markdown",
   "id": "20b542e2",
   "metadata": {},
   "source": [
    "##### Code"
   ]
  },
  {
   "cell_type": "code",
   "execution_count": 367,
   "id": "93d06196",
   "metadata": {
    "scrolled": true
   },
   "outputs": [
    {
     "name": "stdout",
     "output_type": "stream",
     "text": [
      "<class 'pandas.core.frame.DataFrame'>\n",
      "RangeIndex: 503 entries, 0 to 502\n",
      "Data columns (total 15 columns):\n",
      " #   Column        Non-Null Count  Dtype  \n",
      "---  ------        --------------  -----  \n",
      " 0   patient_id    503 non-null    int64  \n",
      " 1   assigned_sex  503 non-null    object \n",
      " 2   given_name    503 non-null    object \n",
      " 3   surname       503 non-null    object \n",
      " 4   address       491 non-null    object \n",
      " 5   city          491 non-null    object \n",
      " 6   state         491 non-null    object \n",
      " 7   zip_code      491 non-null    object \n",
      " 8   country       491 non-null    object \n",
      " 9   birthdate     503 non-null    object \n",
      " 10  weight        503 non-null    float64\n",
      " 11  height        503 non-null    int64  \n",
      " 12  bmi           503 non-null    float64\n",
      " 13  phone_number  491 non-null    object \n",
      " 14  email         491 non-null    object \n",
      "dtypes: float64(2), int64(2), object(11)\n",
      "memory usage: 59.1+ KB\n"
     ]
    }
   ],
   "source": [
    "patients_clean.info()"
   ]
  },
  {
   "cell_type": "code",
   "execution_count": 368,
   "id": "f081ef8b",
   "metadata": {},
   "outputs": [],
   "source": [
    "# Convert assigned sex and state to categorical data types\n",
    "patients_clean.assigned_sex = patients_clean.assigned_sex.astype('category')\n",
    "patients_clean.state = patients_clean.state.astype('category')"
   ]
  },
  {
   "cell_type": "code",
   "execution_count": 371,
   "id": "16a45755",
   "metadata": {},
   "outputs": [],
   "source": [
    "# Convert birthdate to datetime data type\n",
    "patients_clean.birthdate = pd.to_datetime(patients_clean.birthdate)"
   ]
  },
  {
   "cell_type": "code",
   "execution_count": 378,
   "id": "31058f35",
   "metadata": {},
   "outputs": [],
   "source": [
    "# # Strip u and convert its type to integer\n",
    "treatments_clean.start_dose = treatments_clean.start_dose.str.strip('u').astype(int)\n",
    "treatments_clean.end_dose = treatments_clean.end_dose.str.strip('u').astype(int)"
   ]
  },
  {
   "cell_type": "markdown",
   "id": "345890e9",
   "metadata": {},
   "source": [
    "##### Test"
   ]
  },
  {
   "cell_type": "code",
   "execution_count": 379,
   "id": "8fa08a21",
   "metadata": {},
   "outputs": [
    {
     "name": "stdout",
     "output_type": "stream",
     "text": [
      "<class 'pandas.core.frame.DataFrame'>\n",
      "RangeIndex: 503 entries, 0 to 502\n",
      "Data columns (total 15 columns):\n",
      " #   Column        Non-Null Count  Dtype         \n",
      "---  ------        --------------  -----         \n",
      " 0   patient_id    503 non-null    int64         \n",
      " 1   assigned_sex  503 non-null    category      \n",
      " 2   given_name    503 non-null    object        \n",
      " 3   surname       503 non-null    object        \n",
      " 4   address       491 non-null    object        \n",
      " 5   city          491 non-null    object        \n",
      " 6   state         491 non-null    category      \n",
      " 7   zip_code      491 non-null    object        \n",
      " 8   country       491 non-null    object        \n",
      " 9   birthdate     503 non-null    datetime64[ns]\n",
      " 10  weight        503 non-null    float64       \n",
      " 11  height        503 non-null    int64         \n",
      " 12  bmi           503 non-null    float64       \n",
      " 13  phone_number  491 non-null    object        \n",
      " 14  email         491 non-null    object        \n",
      "dtypes: category(2), datetime64[ns](1), float64(2), int64(2), object(8)\n",
      "memory usage: 53.7+ KB\n"
     ]
    }
   ],
   "source": [
    "# The datatype should have been changed\n",
    "patients_clean.info()"
   ]
  },
  {
   "cell_type": "code",
   "execution_count": 381,
   "id": "3e88aa38",
   "metadata": {},
   "outputs": [
    {
     "name": "stdout",
     "output_type": "stream",
     "text": [
      "<class 'pandas.core.frame.DataFrame'>\n",
      "Int64Index: 350 entries, 0 to 349\n",
      "Data columns (total 8 columns):\n",
      " #   Column            Non-Null Count  Dtype  \n",
      "---  ------            --------------  -----  \n",
      " 0   hba1c_start       350 non-null    float64\n",
      " 1   hba1c_end         350 non-null    float64\n",
      " 2   hba1c_change      350 non-null    float64\n",
      " 3   treatment         350 non-null    object \n",
      " 4   start_dose        350 non-null    int32  \n",
      " 5   end_dose          350 non-null    int32  \n",
      " 6   adverse_reaction  35 non-null     object \n",
      " 7   patient_id        350 non-null    int64  \n",
      "dtypes: float64(3), int32(2), int64(1), object(2)\n",
      "memory usage: 21.9+ KB\n"
     ]
    }
   ],
   "source": [
    "treatments_clean.info()"
   ]
  },
  {
   "cell_type": "code",
   "execution_count": 382,
   "id": "67c5306b",
   "metadata": {},
   "outputs": [
    {
     "data": {
      "text/html": [
       "<div>\n",
       "<style scoped>\n",
       "    .dataframe tbody tr th:only-of-type {\n",
       "        vertical-align: middle;\n",
       "    }\n",
       "\n",
       "    .dataframe tbody tr th {\n",
       "        vertical-align: top;\n",
       "    }\n",
       "\n",
       "    .dataframe thead th {\n",
       "        text-align: right;\n",
       "    }\n",
       "</style>\n",
       "<table border=\"1\" class=\"dataframe\">\n",
       "  <thead>\n",
       "    <tr style=\"text-align: right;\">\n",
       "      <th></th>\n",
       "      <th>hba1c_start</th>\n",
       "      <th>hba1c_end</th>\n",
       "      <th>hba1c_change</th>\n",
       "      <th>treatment</th>\n",
       "      <th>start_dose</th>\n",
       "      <th>end_dose</th>\n",
       "      <th>adverse_reaction</th>\n",
       "      <th>patient_id</th>\n",
       "    </tr>\n",
       "  </thead>\n",
       "  <tbody>\n",
       "    <tr>\n",
       "      <th>0</th>\n",
       "      <td>7.63</td>\n",
       "      <td>7.20</td>\n",
       "      <td>0.43</td>\n",
       "      <td>auralin</td>\n",
       "      <td>41</td>\n",
       "      <td>48</td>\n",
       "      <td>NaN</td>\n",
       "      <td>225</td>\n",
       "    </tr>\n",
       "    <tr>\n",
       "      <th>1</th>\n",
       "      <td>7.97</td>\n",
       "      <td>7.62</td>\n",
       "      <td>0.35</td>\n",
       "      <td>auralin</td>\n",
       "      <td>33</td>\n",
       "      <td>36</td>\n",
       "      <td>NaN</td>\n",
       "      <td>242</td>\n",
       "    </tr>\n",
       "    <tr>\n",
       "      <th>2</th>\n",
       "      <td>7.65</td>\n",
       "      <td>7.27</td>\n",
       "      <td>0.38</td>\n",
       "      <td>auralin</td>\n",
       "      <td>37</td>\n",
       "      <td>42</td>\n",
       "      <td>NaN</td>\n",
       "      <td>345</td>\n",
       "    </tr>\n",
       "    <tr>\n",
       "      <th>3</th>\n",
       "      <td>7.89</td>\n",
       "      <td>7.55</td>\n",
       "      <td>0.34</td>\n",
       "      <td>auralin</td>\n",
       "      <td>31</td>\n",
       "      <td>38</td>\n",
       "      <td>NaN</td>\n",
       "      <td>276</td>\n",
       "    </tr>\n",
       "    <tr>\n",
       "      <th>4</th>\n",
       "      <td>7.76</td>\n",
       "      <td>7.37</td>\n",
       "      <td>0.39</td>\n",
       "      <td>auralin</td>\n",
       "      <td>30</td>\n",
       "      <td>36</td>\n",
       "      <td>NaN</td>\n",
       "      <td>15</td>\n",
       "    </tr>\n",
       "  </tbody>\n",
       "</table>\n",
       "</div>"
      ],
      "text/plain": [
       "   hba1c_start  hba1c_end  hba1c_change treatment  start_dose  end_dose  \\\n",
       "0         7.63       7.20          0.43   auralin          41        48   \n",
       "1         7.97       7.62          0.35   auralin          33        36   \n",
       "2         7.65       7.27          0.38   auralin          37        42   \n",
       "3         7.89       7.55          0.34   auralin          31        38   \n",
       "4         7.76       7.37          0.39   auralin          30        36   \n",
       "\n",
       "  adverse_reaction  patient_id  \n",
       "0              NaN         225  \n",
       "1              NaN         242  \n",
       "2              NaN         345  \n",
       "3              NaN         276  \n",
       "4              NaN          15  "
      ]
     },
     "execution_count": 382,
     "metadata": {},
     "output_type": "execute_result"
    }
   ],
   "source": [
    "treatments_clean.head()"
   ]
  },
  {
   "cell_type": "markdown",
   "id": "1af6eb14",
   "metadata": {},
   "source": [
    "#### Multiple phone number formats"
   ]
  },
  {
   "cell_type": "markdown",
   "id": "60ba3748",
   "metadata": {},
   "source": [
    "##### Define"
   ]
  },
  {
   "cell_type": "markdown",
   "id": "71d9d8fd",
   "metadata": {},
   "source": [
    "Option 1: Extract only the 10 digit phone number (without country code) and replace and closing parenthesis with '-', and replace the opening parenthesis with an empty string\n",
    "\n",
    "Option 2: Strip all \" \", \"-\", \"(\", \")\", and \"+\" and store each number without any formatting. Pad the phone number with a 1 if the length of the number is 10 digits (we want country code)."
   ]
  },
  {
   "cell_type": "markdown",
   "id": "ba3e33a8",
   "metadata": {},
   "source": [
    "##### Code"
   ]
  },
  {
   "cell_type": "code",
   "execution_count": 386,
   "id": "5110906b",
   "metadata": {},
   "outputs": [],
   "source": [
    "# First option: use regular expression to extract the phone number\n",
    "patients_clean.phone_number = patients_clean.phone_number.str.extract(\n",
    "    r'((?:(?:(\\s*\\(?([2-9]1[02-9]|[2-9][02-8]1|[2-9][02-8][02-9])\\s*)|([2-9]1[02-9]|[2-9][02-8]1|[2-9][02-8][02-9]))\\)?\\s*(?:[.-]\\s*)?)([2-9]1[02-9]|[2-9][02-9]1|[2-9][02-9]{2})\\s*(?:[.-]\\s*)?([0-9]{4}))'\n",
    "    )[0].str.strip().replace({r'(\\()':'', r'(\\)\\s)':'-'}, regex=True)"
   ]
  },
  {
   "cell_type": "code",
   "execution_count": 387,
   "id": "27f1896b",
   "metadata": {},
   "outputs": [
    {
     "data": {
      "text/plain": [
       "0      951-719-9170\n",
       "1      217-569-3204\n",
       "2      402-363-6804\n",
       "3      732-636-8246\n",
       "4      334-515-7487\n",
       "           ...     \n",
       "498    207-477-0579\n",
       "499    928-284-4492\n",
       "500    816-223-6007\n",
       "501    360 443 2060\n",
       "502    402-848-4923\n",
       "Name: phone_number, Length: 503, dtype: object"
      ]
     },
     "execution_count": 387,
     "metadata": {},
     "output_type": "execute_result"
    }
   ],
   "source": [
    "patients_clean.phone_number"
   ]
  },
  {
   "cell_type": "code",
   "execution_count": 392,
   "id": "51cab46c",
   "metadata": {},
   "outputs": [
    {
     "data": {
      "text/plain": [
       "299    208-826-1678\n",
       "32     562-985-4582\n",
       "28     267 895 7462\n",
       "143    206-902-0473\n",
       "89     480-967-6336\n",
       "26     309-671-8852\n",
       "386    408-215-6012\n",
       "185    989 375 2216\n",
       "482    361-693-4960\n",
       "207    989-936-4563\n",
       "Name: 0, dtype: object"
      ]
     },
     "execution_count": 392,
     "metadata": {},
     "output_type": "execute_result"
    }
   ],
   "source": [
    "phone.sample(10)"
   ]
  },
  {
   "cell_type": "code",
   "execution_count": 399,
   "id": "f0b6efc2",
   "metadata": {},
   "outputs": [
    {
     "name": "stderr",
     "output_type": "stream",
     "text": [
      "<ipython-input-399-e32a807f8355>:4: FutureWarning: The default value of regex will change from True to False in a future version.\n",
      "  patients_clean.phone_number = patients_clean.phone_number.str.replace(r'\\D+', '').str.pad(11, fillchar='1')\n"
     ]
    }
   ],
   "source": [
    "# Second option: Store phone number without any formatting\n",
    "# Replace non-numeric number with '' , and pad 1 into 10-digit phone numbers\n",
    "\n",
    "patients_clean.phone_number = patients_clean.phone_number.str.replace(r'\\D+', '').str.pad(11, fillchar='1')"
   ]
  },
  {
   "cell_type": "markdown",
   "id": "30d8b6f5",
   "metadata": {},
   "source": [
    "##### Test"
   ]
  },
  {
   "cell_type": "code",
   "execution_count": 400,
   "id": "f9bab142",
   "metadata": {},
   "outputs": [
    {
     "data": {
      "text/plain": [
       "462    12137496958\n",
       "48     13127197238\n",
       "104    16022657408\n",
       "236    13033603627\n",
       "181    19707545843\n",
       "289    15044417744\n",
       "156    16122082965\n",
       "203    16364426946\n",
       "401    17857488181\n",
       "129    16313707406\n",
       "Name: phone_number, dtype: object"
      ]
     },
     "execution_count": 400,
     "metadata": {},
     "output_type": "execute_result"
    }
   ],
   "source": [
    "patients_clean.phone_number.sample(10)"
   ]
  },
  {
   "cell_type": "markdown",
   "id": "ea1c612e",
   "metadata": {},
   "source": [
    "#### Default John Doe data"
   ]
  },
  {
   "cell_type": "markdown",
   "id": "3767fdb1",
   "metadata": {},
   "source": [
    "##### Define"
   ]
  },
  {
   "cell_type": "markdown",
   "id": "4f2a2cbe",
   "metadata": {},
   "source": [
    "Remove the non-recoverable John Doe records from the `patients` table"
   ]
  },
  {
   "cell_type": "markdown",
   "id": "363d49c5",
   "metadata": {},
   "source": [
    "##### Code"
   ]
  },
  {
   "cell_type": "code",
   "execution_count": 404,
   "id": "98b3cfeb",
   "metadata": {},
   "outputs": [],
   "source": [
    "# Just extract the non-recoverable records\n",
    "patients_clean = patients_clean[patients_clean.surname != 'Doe']"
   ]
  },
  {
   "cell_type": "markdown",
   "id": "5d8ab3d3",
   "metadata": {},
   "source": [
    "##### Test"
   ]
  },
  {
   "cell_type": "code",
   "execution_count": 405,
   "id": "61f2afea",
   "metadata": {
    "scrolled": true
   },
   "outputs": [
    {
     "data": {
      "text/plain": [
       "Jakobsen     3\n",
       "Taylor       3\n",
       "Schiavone    2\n",
       "Johnson      2\n",
       "Dratchev     2\n",
       "            ..\n",
       "Mata         1\n",
       "Dimmen       1\n",
       "Ouwendijk    1\n",
       "Quynh        1\n",
       "Mckay        1\n",
       "Name: surname, Length: 465, dtype: int64"
      ]
     },
     "execution_count": 405,
     "metadata": {},
     "output_type": "execute_result"
    }
   ],
   "source": [
    "# No more John Does\n",
    "patients_clean.surname.value_counts()"
   ]
  },
  {
   "cell_type": "code",
   "execution_count": 406,
   "id": "9680e7f4",
   "metadata": {},
   "outputs": [
    {
     "data": {
      "text/plain": [
       "2778 North Avenue           2\n",
       "648 Old Dear Lane           2\n",
       "2476 Fulton Street          2\n",
       "350 Ross Street             1\n",
       "2636 Benson Park Drive      1\n",
       "                           ..\n",
       "1619 Melm Street            1\n",
       "4646 Highland View Drive    1\n",
       "4148 Callison Lane          1\n",
       "456 Delaware Avenue         1\n",
       "2945 Ferguson Street        1\n",
       "Name: address, Length: 482, dtype: int64"
      ]
     },
     "execution_count": 406,
     "metadata": {},
     "output_type": "execute_result"
    }
   ],
   "source": [
    "# Should be also no 123 Main Street records\n",
    "patients_clean.address.value_counts()"
   ]
  },
  {
   "cell_type": "markdown",
   "id": "fae37013",
   "metadata": {},
   "source": [
    "#### Multiple records for Jakobsen, Gersten, Taylor"
   ]
  },
  {
   "cell_type": "markdown",
   "id": "977077d7",
   "metadata": {},
   "source": [
    "##### Define"
   ]
  },
  {
   "cell_type": "markdown",
   "id": "54ba9837",
   "metadata": {},
   "source": [
    "Remove the Jake Jakobsen, Pat Gersten, and Sandy Taylor rows from the patients table. These are the nicknames, which happen to also not be in the treatments table (removing the wrong name would create a consistency issue between the patients and treatments table). These are all the second occurrence of the duplicate. These are also the only occurences of non-null duplicate addresses."
   ]
  },
  {
   "cell_type": "markdown",
   "id": "64ee8c20",
   "metadata": {},
   "source": [
    "##### Code"
   ]
  },
  {
   "cell_type": "markdown",
   "id": "0dd10ee1",
   "metadata": {},
   "source": [
    "Method 1: Find each duplicate and drop it"
   ]
  },
  {
   "cell_type": "code",
   "execution_count": 255,
   "id": "e5b9911e",
   "metadata": {},
   "outputs": [
    {
     "data": {
      "text/html": [
       "<div>\n",
       "<style scoped>\n",
       "    .dataframe tbody tr th:only-of-type {\n",
       "        vertical-align: middle;\n",
       "    }\n",
       "\n",
       "    .dataframe tbody tr th {\n",
       "        vertical-align: top;\n",
       "    }\n",
       "\n",
       "    .dataframe thead th {\n",
       "        text-align: right;\n",
       "    }\n",
       "</style>\n",
       "<table border=\"1\" class=\"dataframe\">\n",
       "  <thead>\n",
       "    <tr style=\"text-align: right;\">\n",
       "      <th></th>\n",
       "      <th>patient_id</th>\n",
       "      <th>assigned_sex</th>\n",
       "      <th>given_name</th>\n",
       "      <th>surname</th>\n",
       "      <th>address</th>\n",
       "      <th>city</th>\n",
       "      <th>state</th>\n",
       "      <th>zip_code</th>\n",
       "      <th>country</th>\n",
       "      <th>birthdate</th>\n",
       "      <th>weight</th>\n",
       "      <th>height</th>\n",
       "      <th>bmi</th>\n",
       "      <th>phone</th>\n",
       "      <th>email</th>\n",
       "    </tr>\n",
       "  </thead>\n",
       "  <tbody>\n",
       "    <tr>\n",
       "      <th>131</th>\n",
       "      <td>132</td>\n",
       "      <td>female</td>\n",
       "      <td>Sandra</td>\n",
       "      <td>Taylor</td>\n",
       "      <td>2476 Fulton Street</td>\n",
       "      <td>Rainelle</td>\n",
       "      <td>WV</td>\n",
       "      <td>25962</td>\n",
       "      <td>United States</td>\n",
       "      <td>10/23/1960</td>\n",
       "      <td>206.1</td>\n",
       "      <td>64</td>\n",
       "      <td>35.4</td>\n",
       "      <td>304-438-2648</td>\n",
       "      <td>SandraCTaylor@dayrep.com</td>\n",
       "    </tr>\n",
       "    <tr>\n",
       "      <th>282</th>\n",
       "      <td>283</td>\n",
       "      <td>female</td>\n",
       "      <td>Sandy</td>\n",
       "      <td>Taylor</td>\n",
       "      <td>2476 Fulton Street</td>\n",
       "      <td>Rainelle</td>\n",
       "      <td>WV</td>\n",
       "      <td>25962</td>\n",
       "      <td>United States</td>\n",
       "      <td>10/23/1960</td>\n",
       "      <td>206.1</td>\n",
       "      <td>64</td>\n",
       "      <td>35.4</td>\n",
       "      <td>304-438-2648</td>\n",
       "      <td>SandraCTaylor@dayrep.com</td>\n",
       "    </tr>\n",
       "    <tr>\n",
       "      <th>426</th>\n",
       "      <td>427</td>\n",
       "      <td>male</td>\n",
       "      <td>Rogelio</td>\n",
       "      <td>Taylor</td>\n",
       "      <td>4064 Marigold Lane</td>\n",
       "      <td>Miami</td>\n",
       "      <td>FL</td>\n",
       "      <td>33179</td>\n",
       "      <td>United States</td>\n",
       "      <td>9/2/1992</td>\n",
       "      <td>186.6</td>\n",
       "      <td>69</td>\n",
       "      <td>27.6</td>\n",
       "      <td>305-434-6299</td>\n",
       "      <td>RogelioJTaylor@teleworm.us</td>\n",
       "    </tr>\n",
       "  </tbody>\n",
       "</table>\n",
       "</div>"
      ],
      "text/plain": [
       "     patient_id assigned_sex given_name surname             address      city  \\\n",
       "131         132       female     Sandra  Taylor  2476 Fulton Street  Rainelle   \n",
       "282         283       female      Sandy  Taylor  2476 Fulton Street  Rainelle   \n",
       "426         427         male    Rogelio  Taylor  4064 Marigold Lane     Miami   \n",
       "\n",
       "    state zip_code        country   birthdate  weight  height   bmi  \\\n",
       "131    WV    25962  United States  10/23/1960   206.1      64  35.4   \n",
       "282    WV    25962  United States  10/23/1960   206.1      64  35.4   \n",
       "426    FL    33179  United States    9/2/1992   186.6      69  27.6   \n",
       "\n",
       "            phone                       email  \n",
       "131  304-438-2648    SandraCTaylor@dayrep.com  \n",
       "282  304-438-2648    SandraCTaylor@dayrep.com  \n",
       "426  305-434-6299  RogelioJTaylor@teleworm.us  "
      ]
     },
     "execution_count": 255,
     "metadata": {},
     "output_type": "execute_result"
    }
   ],
   "source": [
    "patients_clean.query('surname == \"Taylor\"')"
   ]
  },
  {
   "cell_type": "code",
   "execution_count": 257,
   "id": "afc961f8",
   "metadata": {},
   "outputs": [],
   "source": [
    "patients_clean.drop(index=282, inplace=True)"
   ]
  },
  {
   "cell_type": "code",
   "execution_count": 259,
   "id": "c46fa320",
   "metadata": {},
   "outputs": [
    {
     "data": {
      "text/html": [
       "<div>\n",
       "<style scoped>\n",
       "    .dataframe tbody tr th:only-of-type {\n",
       "        vertical-align: middle;\n",
       "    }\n",
       "\n",
       "    .dataframe tbody tr th {\n",
       "        vertical-align: top;\n",
       "    }\n",
       "\n",
       "    .dataframe thead th {\n",
       "        text-align: right;\n",
       "    }\n",
       "</style>\n",
       "<table border=\"1\" class=\"dataframe\">\n",
       "  <thead>\n",
       "    <tr style=\"text-align: right;\">\n",
       "      <th></th>\n",
       "      <th>patient_id</th>\n",
       "      <th>assigned_sex</th>\n",
       "      <th>given_name</th>\n",
       "      <th>surname</th>\n",
       "      <th>address</th>\n",
       "      <th>city</th>\n",
       "      <th>state</th>\n",
       "      <th>zip_code</th>\n",
       "      <th>country</th>\n",
       "      <th>birthdate</th>\n",
       "      <th>weight</th>\n",
       "      <th>height</th>\n",
       "      <th>bmi</th>\n",
       "      <th>phone</th>\n",
       "      <th>email</th>\n",
       "    </tr>\n",
       "  </thead>\n",
       "  <tbody>\n",
       "    <tr>\n",
       "      <th>97</th>\n",
       "      <td>98</td>\n",
       "      <td>male</td>\n",
       "      <td>Patrick</td>\n",
       "      <td>Gersten</td>\n",
       "      <td>2778 North Avenue</td>\n",
       "      <td>Burr</td>\n",
       "      <td>NE</td>\n",
       "      <td>68324</td>\n",
       "      <td>United States</td>\n",
       "      <td>5/3/1954</td>\n",
       "      <td>138.2</td>\n",
       "      <td>71</td>\n",
       "      <td>19.3</td>\n",
       "      <td>402-848-4923</td>\n",
       "      <td>PatrickGersten@rhyta.com</td>\n",
       "    </tr>\n",
       "    <tr>\n",
       "      <th>502</th>\n",
       "      <td>503</td>\n",
       "      <td>male</td>\n",
       "      <td>Pat</td>\n",
       "      <td>Gersten</td>\n",
       "      <td>2778 North Avenue</td>\n",
       "      <td>Burr</td>\n",
       "      <td>NE</td>\n",
       "      <td>68324</td>\n",
       "      <td>United States</td>\n",
       "      <td>5/3/1954</td>\n",
       "      <td>138.2</td>\n",
       "      <td>71</td>\n",
       "      <td>19.3</td>\n",
       "      <td>402-848-4923</td>\n",
       "      <td>PatrickGersten@rhyta.com</td>\n",
       "    </tr>\n",
       "  </tbody>\n",
       "</table>\n",
       "</div>"
      ],
      "text/plain": [
       "     patient_id assigned_sex given_name  surname            address  city  \\\n",
       "97           98         male    Patrick  Gersten  2778 North Avenue  Burr   \n",
       "502         503         male        Pat  Gersten  2778 North Avenue  Burr   \n",
       "\n",
       "    state zip_code        country birthdate  weight  height   bmi  \\\n",
       "97     NE    68324  United States  5/3/1954   138.2      71  19.3   \n",
       "502    NE    68324  United States  5/3/1954   138.2      71  19.3   \n",
       "\n",
       "            phone                     email  \n",
       "97   402-848-4923  PatrickGersten@rhyta.com  \n",
       "502  402-848-4923  PatrickGersten@rhyta.com  "
      ]
     },
     "execution_count": 259,
     "metadata": {},
     "output_type": "execute_result"
    }
   ],
   "source": [
    "patients_clean.query('surname == \"Gersten\"')"
   ]
  },
  {
   "cell_type": "code",
   "execution_count": 260,
   "id": "55e0fa8d",
   "metadata": {},
   "outputs": [],
   "source": [
    "patients_clean.drop(index=502, inplace=True)"
   ]
  },
  {
   "cell_type": "code",
   "execution_count": 261,
   "id": "5d3d00ea",
   "metadata": {},
   "outputs": [
    {
     "data": {
      "text/html": [
       "<div>\n",
       "<style scoped>\n",
       "    .dataframe tbody tr th:only-of-type {\n",
       "        vertical-align: middle;\n",
       "    }\n",
       "\n",
       "    .dataframe tbody tr th {\n",
       "        vertical-align: top;\n",
       "    }\n",
       "\n",
       "    .dataframe thead th {\n",
       "        text-align: right;\n",
       "    }\n",
       "</style>\n",
       "<table border=\"1\" class=\"dataframe\">\n",
       "  <thead>\n",
       "    <tr style=\"text-align: right;\">\n",
       "      <th></th>\n",
       "      <th>patient_id</th>\n",
       "      <th>assigned_sex</th>\n",
       "      <th>given_name</th>\n",
       "      <th>surname</th>\n",
       "      <th>address</th>\n",
       "      <th>city</th>\n",
       "      <th>state</th>\n",
       "      <th>zip_code</th>\n",
       "      <th>country</th>\n",
       "      <th>birthdate</th>\n",
       "      <th>weight</th>\n",
       "      <th>height</th>\n",
       "      <th>bmi</th>\n",
       "      <th>phone</th>\n",
       "      <th>email</th>\n",
       "    </tr>\n",
       "  </thead>\n",
       "  <tbody>\n",
       "    <tr>\n",
       "      <th>24</th>\n",
       "      <td>25</td>\n",
       "      <td>male</td>\n",
       "      <td>Jakob</td>\n",
       "      <td>Jakobsen</td>\n",
       "      <td>648 Old Dear Lane</td>\n",
       "      <td>Port Jervis</td>\n",
       "      <td>NY</td>\n",
       "      <td>12771</td>\n",
       "      <td>United States</td>\n",
       "      <td>8/1/1985</td>\n",
       "      <td>155.8</td>\n",
       "      <td>67</td>\n",
       "      <td>24.4</td>\n",
       "      <td>845-858-7707</td>\n",
       "      <td>JakobCJakobsen@einrot.com</td>\n",
       "    </tr>\n",
       "    <tr>\n",
       "      <th>29</th>\n",
       "      <td>30</td>\n",
       "      <td>male</td>\n",
       "      <td>Jake</td>\n",
       "      <td>Jakobsen</td>\n",
       "      <td>648 Old Dear Lane</td>\n",
       "      <td>Port Jervis</td>\n",
       "      <td>NY</td>\n",
       "      <td>12771</td>\n",
       "      <td>United States</td>\n",
       "      <td>8/1/1985</td>\n",
       "      <td>155.8</td>\n",
       "      <td>67</td>\n",
       "      <td>24.4</td>\n",
       "      <td>845-858-7707</td>\n",
       "      <td>JakobCJakobsen@einrot.com</td>\n",
       "    </tr>\n",
       "    <tr>\n",
       "      <th>432</th>\n",
       "      <td>433</td>\n",
       "      <td>female</td>\n",
       "      <td>Karen</td>\n",
       "      <td>Jakobsen</td>\n",
       "      <td>1690 Fannie Street</td>\n",
       "      <td>Houston</td>\n",
       "      <td>TX</td>\n",
       "      <td>77020</td>\n",
       "      <td>United States</td>\n",
       "      <td>11/25/1962</td>\n",
       "      <td>185.2</td>\n",
       "      <td>67</td>\n",
       "      <td>29.0</td>\n",
       "      <td>979 203 0438</td>\n",
       "      <td>KarenJakobsen@jourrapide.com</td>\n",
       "    </tr>\n",
       "  </tbody>\n",
       "</table>\n",
       "</div>"
      ],
      "text/plain": [
       "     patient_id assigned_sex given_name   surname             address  \\\n",
       "24           25         male      Jakob  Jakobsen   648 Old Dear Lane   \n",
       "29           30         male       Jake  Jakobsen   648 Old Dear Lane   \n",
       "432         433       female      Karen  Jakobsen  1690 Fannie Street   \n",
       "\n",
       "            city state zip_code        country   birthdate  weight  height  \\\n",
       "24   Port Jervis    NY    12771  United States    8/1/1985   155.8      67   \n",
       "29   Port Jervis    NY    12771  United States    8/1/1985   155.8      67   \n",
       "432      Houston    TX    77020  United States  11/25/1962   185.2      67   \n",
       "\n",
       "      bmi         phone                         email  \n",
       "24   24.4  845-858-7707     JakobCJakobsen@einrot.com  \n",
       "29   24.4  845-858-7707     JakobCJakobsen@einrot.com  \n",
       "432  29.0  979 203 0438  KarenJakobsen@jourrapide.com  "
      ]
     },
     "execution_count": 261,
     "metadata": {},
     "output_type": "execute_result"
    }
   ],
   "source": [
    "patients_clean.query('surname == \"Jakobsen\"')"
   ]
  },
  {
   "cell_type": "code",
   "execution_count": 262,
   "id": "b23ea1e1",
   "metadata": {},
   "outputs": [],
   "source": [
    "patients_clean.drop(index=29, inplace=True)"
   ]
  },
  {
   "cell_type": "markdown",
   "id": "b1555caa",
   "metadata": {},
   "source": [
    "Method 2: Negate the duplicated records and extract non-duplicated records"
   ]
  },
  {
   "cell_type": "code",
   "execution_count": 410,
   "id": "7797931d",
   "metadata": {},
   "outputs": [],
   "source": [
    "patients_clean = patients_clean[~(patients_clean.address.duplicated() & patients_clean.address.notnull())]"
   ]
  },
  {
   "cell_type": "markdown",
   "id": "49cd2627",
   "metadata": {},
   "source": [
    "##### Test"
   ]
  },
  {
   "cell_type": "code",
   "execution_count": 263,
   "id": "cb453666",
   "metadata": {},
   "outputs": [
    {
     "data": {
      "text/html": [
       "<div>\n",
       "<style scoped>\n",
       "    .dataframe tbody tr th:only-of-type {\n",
       "        vertical-align: middle;\n",
       "    }\n",
       "\n",
       "    .dataframe tbody tr th {\n",
       "        vertical-align: top;\n",
       "    }\n",
       "\n",
       "    .dataframe thead th {\n",
       "        text-align: right;\n",
       "    }\n",
       "</style>\n",
       "<table border=\"1\" class=\"dataframe\">\n",
       "  <thead>\n",
       "    <tr style=\"text-align: right;\">\n",
       "      <th></th>\n",
       "      <th>patient_id</th>\n",
       "      <th>assigned_sex</th>\n",
       "      <th>given_name</th>\n",
       "      <th>surname</th>\n",
       "      <th>address</th>\n",
       "      <th>city</th>\n",
       "      <th>state</th>\n",
       "      <th>zip_code</th>\n",
       "      <th>country</th>\n",
       "      <th>birthdate</th>\n",
       "      <th>weight</th>\n",
       "      <th>height</th>\n",
       "      <th>bmi</th>\n",
       "      <th>phone</th>\n",
       "      <th>email</th>\n",
       "    </tr>\n",
       "  </thead>\n",
       "  <tbody>\n",
       "    <tr>\n",
       "      <th>131</th>\n",
       "      <td>132</td>\n",
       "      <td>female</td>\n",
       "      <td>Sandra</td>\n",
       "      <td>Taylor</td>\n",
       "      <td>2476 Fulton Street</td>\n",
       "      <td>Rainelle</td>\n",
       "      <td>WV</td>\n",
       "      <td>25962</td>\n",
       "      <td>United States</td>\n",
       "      <td>10/23/1960</td>\n",
       "      <td>206.1</td>\n",
       "      <td>64</td>\n",
       "      <td>35.4</td>\n",
       "      <td>304-438-2648</td>\n",
       "      <td>SandraCTaylor@dayrep.com</td>\n",
       "    </tr>\n",
       "    <tr>\n",
       "      <th>426</th>\n",
       "      <td>427</td>\n",
       "      <td>male</td>\n",
       "      <td>Rogelio</td>\n",
       "      <td>Taylor</td>\n",
       "      <td>4064 Marigold Lane</td>\n",
       "      <td>Miami</td>\n",
       "      <td>FL</td>\n",
       "      <td>33179</td>\n",
       "      <td>United States</td>\n",
       "      <td>9/2/1992</td>\n",
       "      <td>186.6</td>\n",
       "      <td>69</td>\n",
       "      <td>27.6</td>\n",
       "      <td>305-434-6299</td>\n",
       "      <td>RogelioJTaylor@teleworm.us</td>\n",
       "    </tr>\n",
       "  </tbody>\n",
       "</table>\n",
       "</div>"
      ],
      "text/plain": [
       "     patient_id assigned_sex given_name surname             address      city  \\\n",
       "131         132       female     Sandra  Taylor  2476 Fulton Street  Rainelle   \n",
       "426         427         male    Rogelio  Taylor  4064 Marigold Lane     Miami   \n",
       "\n",
       "    state zip_code        country   birthdate  weight  height   bmi  \\\n",
       "131    WV    25962  United States  10/23/1960   206.1      64  35.4   \n",
       "426    FL    33179  United States    9/2/1992   186.6      69  27.6   \n",
       "\n",
       "            phone                       email  \n",
       "131  304-438-2648    SandraCTaylor@dayrep.com  \n",
       "426  305-434-6299  RogelioJTaylor@teleworm.us  "
      ]
     },
     "execution_count": 263,
     "metadata": {},
     "output_type": "execute_result"
    }
   ],
   "source": [
    "patients_clean.query('surname == \"Taylor\"')"
   ]
  },
  {
   "cell_type": "code",
   "execution_count": 264,
   "id": "47772df6",
   "metadata": {},
   "outputs": [
    {
     "data": {
      "text/html": [
       "<div>\n",
       "<style scoped>\n",
       "    .dataframe tbody tr th:only-of-type {\n",
       "        vertical-align: middle;\n",
       "    }\n",
       "\n",
       "    .dataframe tbody tr th {\n",
       "        vertical-align: top;\n",
       "    }\n",
       "\n",
       "    .dataframe thead th {\n",
       "        text-align: right;\n",
       "    }\n",
       "</style>\n",
       "<table border=\"1\" class=\"dataframe\">\n",
       "  <thead>\n",
       "    <tr style=\"text-align: right;\">\n",
       "      <th></th>\n",
       "      <th>patient_id</th>\n",
       "      <th>assigned_sex</th>\n",
       "      <th>given_name</th>\n",
       "      <th>surname</th>\n",
       "      <th>address</th>\n",
       "      <th>city</th>\n",
       "      <th>state</th>\n",
       "      <th>zip_code</th>\n",
       "      <th>country</th>\n",
       "      <th>birthdate</th>\n",
       "      <th>weight</th>\n",
       "      <th>height</th>\n",
       "      <th>bmi</th>\n",
       "      <th>phone</th>\n",
       "      <th>email</th>\n",
       "    </tr>\n",
       "  </thead>\n",
       "  <tbody>\n",
       "    <tr>\n",
       "      <th>97</th>\n",
       "      <td>98</td>\n",
       "      <td>male</td>\n",
       "      <td>Patrick</td>\n",
       "      <td>Gersten</td>\n",
       "      <td>2778 North Avenue</td>\n",
       "      <td>Burr</td>\n",
       "      <td>NE</td>\n",
       "      <td>68324</td>\n",
       "      <td>United States</td>\n",
       "      <td>5/3/1954</td>\n",
       "      <td>138.2</td>\n",
       "      <td>71</td>\n",
       "      <td>19.3</td>\n",
       "      <td>402-848-4923</td>\n",
       "      <td>PatrickGersten@rhyta.com</td>\n",
       "    </tr>\n",
       "  </tbody>\n",
       "</table>\n",
       "</div>"
      ],
      "text/plain": [
       "    patient_id assigned_sex given_name  surname            address  city  \\\n",
       "97          98         male    Patrick  Gersten  2778 North Avenue  Burr   \n",
       "\n",
       "   state zip_code        country birthdate  weight  height   bmi  \\\n",
       "97    NE    68324  United States  5/3/1954   138.2      71  19.3   \n",
       "\n",
       "           phone                     email  \n",
       "97  402-848-4923  PatrickGersten@rhyta.com  "
      ]
     },
     "execution_count": 264,
     "metadata": {},
     "output_type": "execute_result"
    }
   ],
   "source": [
    "patients_clean.query('surname == \"Gersten\"')"
   ]
  },
  {
   "cell_type": "code",
   "execution_count": 265,
   "id": "8431b452",
   "metadata": {},
   "outputs": [
    {
     "data": {
      "text/html": [
       "<div>\n",
       "<style scoped>\n",
       "    .dataframe tbody tr th:only-of-type {\n",
       "        vertical-align: middle;\n",
       "    }\n",
       "\n",
       "    .dataframe tbody tr th {\n",
       "        vertical-align: top;\n",
       "    }\n",
       "\n",
       "    .dataframe thead th {\n",
       "        text-align: right;\n",
       "    }\n",
       "</style>\n",
       "<table border=\"1\" class=\"dataframe\">\n",
       "  <thead>\n",
       "    <tr style=\"text-align: right;\">\n",
       "      <th></th>\n",
       "      <th>patient_id</th>\n",
       "      <th>assigned_sex</th>\n",
       "      <th>given_name</th>\n",
       "      <th>surname</th>\n",
       "      <th>address</th>\n",
       "      <th>city</th>\n",
       "      <th>state</th>\n",
       "      <th>zip_code</th>\n",
       "      <th>country</th>\n",
       "      <th>birthdate</th>\n",
       "      <th>weight</th>\n",
       "      <th>height</th>\n",
       "      <th>bmi</th>\n",
       "      <th>phone</th>\n",
       "      <th>email</th>\n",
       "    </tr>\n",
       "  </thead>\n",
       "  <tbody>\n",
       "    <tr>\n",
       "      <th>24</th>\n",
       "      <td>25</td>\n",
       "      <td>male</td>\n",
       "      <td>Jakob</td>\n",
       "      <td>Jakobsen</td>\n",
       "      <td>648 Old Dear Lane</td>\n",
       "      <td>Port Jervis</td>\n",
       "      <td>NY</td>\n",
       "      <td>12771</td>\n",
       "      <td>United States</td>\n",
       "      <td>8/1/1985</td>\n",
       "      <td>155.8</td>\n",
       "      <td>67</td>\n",
       "      <td>24.4</td>\n",
       "      <td>845-858-7707</td>\n",
       "      <td>JakobCJakobsen@einrot.com</td>\n",
       "    </tr>\n",
       "    <tr>\n",
       "      <th>432</th>\n",
       "      <td>433</td>\n",
       "      <td>female</td>\n",
       "      <td>Karen</td>\n",
       "      <td>Jakobsen</td>\n",
       "      <td>1690 Fannie Street</td>\n",
       "      <td>Houston</td>\n",
       "      <td>TX</td>\n",
       "      <td>77020</td>\n",
       "      <td>United States</td>\n",
       "      <td>11/25/1962</td>\n",
       "      <td>185.2</td>\n",
       "      <td>67</td>\n",
       "      <td>29.0</td>\n",
       "      <td>979 203 0438</td>\n",
       "      <td>KarenJakobsen@jourrapide.com</td>\n",
       "    </tr>\n",
       "  </tbody>\n",
       "</table>\n",
       "</div>"
      ],
      "text/plain": [
       "     patient_id assigned_sex given_name   surname             address  \\\n",
       "24           25         male      Jakob  Jakobsen   648 Old Dear Lane   \n",
       "432         433       female      Karen  Jakobsen  1690 Fannie Street   \n",
       "\n",
       "            city state zip_code        country   birthdate  weight  height  \\\n",
       "24   Port Jervis    NY    12771  United States    8/1/1985   155.8      67   \n",
       "432      Houston    TX    77020  United States  11/25/1962   185.2      67   \n",
       "\n",
       "      bmi         phone                         email  \n",
       "24   24.4  845-858-7707     JakobCJakobsen@einrot.com  \n",
       "432  29.0  979 203 0438  KarenJakobsen@jourrapide.com  "
      ]
     },
     "execution_count": 265,
     "metadata": {},
     "output_type": "execute_result"
    }
   ],
   "source": [
    "patients_clean.query('surname == \"Jakobsen\"')"
   ]
  },
  {
   "cell_type": "markdown",
   "id": "89ccd8cd",
   "metadata": {},
   "source": [
    "#### kgs instead of lbs for Zaitseva weight"
   ]
  },
  {
   "cell_type": "markdown",
   "id": "06f52f78",
   "metadata": {},
   "source": [
    "##### Define"
   ]
  },
  {
   "cell_type": "markdown",
   "id": "b3986cb2",
   "metadata": {},
   "source": [
    "Replace the cell with the value of kgs to the value of lbs"
   ]
  },
  {
   "cell_type": "markdown",
   "id": "1da1dc98",
   "metadata": {},
   "source": [
    "##### Code"
   ]
  },
  {
   "cell_type": "code",
   "execution_count": 267,
   "id": "873c0022",
   "metadata": {},
   "outputs": [
    {
     "data": {
      "text/html": [
       "<div>\n",
       "<style scoped>\n",
       "    .dataframe tbody tr th:only-of-type {\n",
       "        vertical-align: middle;\n",
       "    }\n",
       "\n",
       "    .dataframe tbody tr th {\n",
       "        vertical-align: top;\n",
       "    }\n",
       "\n",
       "    .dataframe thead th {\n",
       "        text-align: right;\n",
       "    }\n",
       "</style>\n",
       "<table border=\"1\" class=\"dataframe\">\n",
       "  <thead>\n",
       "    <tr style=\"text-align: right;\">\n",
       "      <th></th>\n",
       "      <th>patient_id</th>\n",
       "      <th>assigned_sex</th>\n",
       "      <th>given_name</th>\n",
       "      <th>surname</th>\n",
       "      <th>address</th>\n",
       "      <th>city</th>\n",
       "      <th>state</th>\n",
       "      <th>zip_code</th>\n",
       "      <th>country</th>\n",
       "      <th>birthdate</th>\n",
       "      <th>weight</th>\n",
       "      <th>height</th>\n",
       "      <th>bmi</th>\n",
       "      <th>phone</th>\n",
       "      <th>email</th>\n",
       "    </tr>\n",
       "  </thead>\n",
       "  <tbody>\n",
       "    <tr>\n",
       "      <th>210</th>\n",
       "      <td>211</td>\n",
       "      <td>female</td>\n",
       "      <td>Camilla</td>\n",
       "      <td>Zaitseva</td>\n",
       "      <td>4689 Briarhill Lane</td>\n",
       "      <td>Wooster</td>\n",
       "      <td>OH</td>\n",
       "      <td>44691</td>\n",
       "      <td>United States</td>\n",
       "      <td>11/26/1938</td>\n",
       "      <td>48.8</td>\n",
       "      <td>63</td>\n",
       "      <td>19.1</td>\n",
       "      <td>330-202-2145</td>\n",
       "      <td>CamillaZaitseva@superrito.com</td>\n",
       "    </tr>\n",
       "  </tbody>\n",
       "</table>\n",
       "</div>"
      ],
      "text/plain": [
       "     patient_id assigned_sex given_name   surname              address  \\\n",
       "210         211       female    Camilla  Zaitseva  4689 Briarhill Lane   \n",
       "\n",
       "        city state zip_code        country   birthdate  weight  height   bmi  \\\n",
       "210  Wooster    OH    44691  United States  11/26/1938    48.8      63  19.1   \n",
       "\n",
       "            phone                          email  \n",
       "210  330-202-2145  CamillaZaitseva@superrito.com  "
      ]
     },
     "execution_count": 267,
     "metadata": {},
     "output_type": "execute_result"
    }
   ],
   "source": [
    "patients_clean.query('surname == \"Zaitseva\"')"
   ]
  },
  {
   "cell_type": "code",
   "execution_count": 417,
   "id": "8414251d",
   "metadata": {},
   "outputs": [],
   "source": [
    "# use .at to locate the cell and replace the value\n",
    "patients_clean.at[210, 'weight'] = 107.58"
   ]
  },
  {
   "cell_type": "markdown",
   "id": "d5c19d2b",
   "metadata": {},
   "source": [
    "##### Test"
   ]
  },
  {
   "cell_type": "code",
   "execution_count": 414,
   "id": "8f1f90a0",
   "metadata": {},
   "outputs": [
    {
     "data": {
      "text/html": [
       "<div>\n",
       "<style scoped>\n",
       "    .dataframe tbody tr th:only-of-type {\n",
       "        vertical-align: middle;\n",
       "    }\n",
       "\n",
       "    .dataframe tbody tr th {\n",
       "        vertical-align: top;\n",
       "    }\n",
       "\n",
       "    .dataframe thead th {\n",
       "        text-align: right;\n",
       "    }\n",
       "</style>\n",
       "<table border=\"1\" class=\"dataframe\">\n",
       "  <thead>\n",
       "    <tr style=\"text-align: right;\">\n",
       "      <th></th>\n",
       "      <th>patient_id</th>\n",
       "      <th>assigned_sex</th>\n",
       "      <th>given_name</th>\n",
       "      <th>surname</th>\n",
       "      <th>address</th>\n",
       "      <th>city</th>\n",
       "      <th>state</th>\n",
       "      <th>zip_code</th>\n",
       "      <th>country</th>\n",
       "      <th>birthdate</th>\n",
       "      <th>weight</th>\n",
       "      <th>height</th>\n",
       "      <th>bmi</th>\n",
       "      <th>phone_number</th>\n",
       "      <th>email</th>\n",
       "      <th>phone</th>\n",
       "    </tr>\n",
       "  </thead>\n",
       "  <tbody>\n",
       "    <tr>\n",
       "      <th>210</th>\n",
       "      <td>211</td>\n",
       "      <td>female</td>\n",
       "      <td>Camilla</td>\n",
       "      <td>Zaitseva</td>\n",
       "      <td>4689 Briarhill Lane</td>\n",
       "      <td>Wooster</td>\n",
       "      <td>OH</td>\n",
       "      <td>44691</td>\n",
       "      <td>United States</td>\n",
       "      <td>1938-11-26</td>\n",
       "      <td>107.58</td>\n",
       "      <td>63</td>\n",
       "      <td>19.1</td>\n",
       "      <td>13302022145</td>\n",
       "      <td>CamillaZaitseva@superrito.co</td>\n",
       "      <td>330-202-2145</td>\n",
       "    </tr>\n",
       "  </tbody>\n",
       "</table>\n",
       "</div>"
      ],
      "text/plain": [
       "     patient_id assigned_sex given_name   surname              address  \\\n",
       "210         211       female    Camilla  Zaitseva  4689 Briarhill Lane   \n",
       "\n",
       "        city state zip_code        country  birthdate  weight  height   bmi  \\\n",
       "210  Wooster    OH    44691  United States 1938-11-26  107.58      63  19.1   \n",
       "\n",
       "    phone_number                         email         phone  \n",
       "210  13302022145  CamillaZaitseva@superrito.co  330-202-2145  "
      ]
     },
     "execution_count": 414,
     "metadata": {},
     "output_type": "execute_result"
    }
   ],
   "source": [
    "# Use query()\n",
    "patients_clean.query('surname == \"Zaitseva\"')"
   ]
  },
  {
   "cell_type": "code",
   "execution_count": 416,
   "id": "eb6f925c",
   "metadata": {},
   "outputs": [
    {
     "data": {
      "text/plain": [
       "459    102.1\n",
       "335    102.7\n",
       "74     103.2\n",
       "317    106.0\n",
       "171    106.5\n",
       "       ...  \n",
       "144    244.9\n",
       "61     244.9\n",
       "283    245.5\n",
       "118    254.5\n",
       "485    255.9\n",
       "Name: weight, Length: 494, dtype: float64"
      ]
     },
     "execution_count": 416,
     "metadata": {},
     "output_type": "execute_result"
    }
   ],
   "source": [
    "# Or use sort_values()\n",
    "patients_clean.weight.sort_values()"
   ]
  },
  {
   "cell_type": "code",
   "execution_count": null,
   "id": "ac9e58b5",
   "metadata": {},
   "outputs": [],
   "source": []
  }
 ],
 "metadata": {
  "kernelspec": {
   "display_name": "Python 3",
   "language": "python",
   "name": "python3"
  },
  "language_info": {
   "codemirror_mode": {
    "name": "ipython",
    "version": 3
   },
   "file_extension": ".py",
   "mimetype": "text/x-python",
   "name": "python",
   "nbconvert_exporter": "python",
   "pygments_lexer": "ipython3",
   "version": "3.8.8"
  }
 },
 "nbformat": 4,
 "nbformat_minor": 5
}
